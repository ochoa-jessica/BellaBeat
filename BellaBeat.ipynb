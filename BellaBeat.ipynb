{
 "cells": [
  {
   "cell_type": "markdown",
   "id": "854092e3",
   "metadata": {},
   "source": [
    "# BELLABEAT "
   ]
  },
  {
   "cell_type": "markdown",
   "id": "71169d81",
   "metadata": {},
   "source": [
    "<i>How can a wellness technology company play it smart?</i>"
   ]
  },
  {
   "cell_type": "code",
   "execution_count": 2,
   "id": "2aee8689",
   "metadata": {},
   "outputs": [],
   "source": [
    "from IPython.display import Image\n",
    "from IPython.core.display import HTML "
   ]
  },
  {
   "cell_type": "code",
   "execution_count": 3,
   "id": "524767cc",
   "metadata": {},
   "outputs": [
    {
     "data": {
      "image/png": "[encoded data removed]",
      "text/plain": [
       "<IPython.core.display.Image object>"
      ]
     },
     "execution_count": 3,
     "metadata": {},
     "output_type": "execute_result"
    }
   ],
   "source": [
    "Image(\"Images/BellaBeat_Logo.png\")"
   ]
  },
  {
   "cell_type": "markdown",
   "id": "4426fb07",
   "metadata": {},
   "source": [
    "### ABOUT THE COMPANY\n",
    "<p>Bellabeat is a high-tech company that manufactures health-focused smart products. Founded in 2013 by artist Urška Sršen and mathematician Sando Mur, the company has many products carefully designed to monitor activity, stress, sleep, and reproductive data to help women better understand how their bodies work and make healthier choices. While small in size, Bellabeat has quickly positioned itself as a tech-driven wellness company for women. Chief Creative Officer, Urška Sršen, believes that analyzing smart device fitness data could help unlock new growth opportunities for the company.</p>"
   ]
  },
  {
   "cell_type": "markdown",
   "id": "bc1487da",
   "metadata": {},
   "source": [
    "### BUSINESS TASK\n",
    "<p>Focus on one of Bellabeat’s products and analyze smart device data to gain insight into how consumers use non-Bellabeat smart devices.</p>"
   ]
  },
  {
   "cell_type": "markdown",
   "id": "1d9e1f86",
   "metadata": {},
   "source": [
    "### PRODUCT\n",
    "<p><li><b>BellaBeat App : </b>The Bellabeat app provides users with health data related to their activity, sleep, stress, menstrual cycle, and mindfulness habits. This data can help users better understand their current habits and make healthy decisions. The Bellabeat app connects to their line of smart wellness products.</li></p>"
   ]
  },
  {
   "cell_type": "markdown",
   "id": "37f0de61",
   "metadata": {},
   "source": [
    "### STAKEHOLDERS\n",
    "<p><li><b>Urška Sršen</b> – Bellabeat’s cofounder and Chief Creative Officer.</li></p>\n",
    "<p><li><b>Sando Mur</b> – Mathematician and Bellabeat’s cofounder; key member of the Bellabeat executive team.</li></p>\n",
    "<p><li><b>Bellabeat Marketing Analytics Team</b> – A team of data analysts responsible for collecting, analyzing, and reporting data that helps guide Bellabeat’s marketing strategy.</li></p>"
   ]
  },
  {
   "cell_type": "markdown",
   "id": "fe5f5823",
   "metadata": {},
   "source": [
    "## 1. ASK\n",
    "<p><li>What are some trends in smart device usage?</li></p>\n",
    "<p><li>How could these trends apply to Bellabeat customers?</li></p>\n",
    "<p><li>How could these trends help influence Bellabeat marketing strategy?</li></p>"
   ]
  },
  {
   "cell_type": "markdown",
   "id": "cf37e88b",
   "metadata": {},
   "source": [
    "## 2. PREPARE\n",
    "<b>Urška Sršen</b> encourages the use of public data that explores smart device users’ daily habits. Therefore, the dataset used in this project will be the FitBit Fitness Tracker Data (CC0: Public Domain, dataset made available through [Möbius](https://www.kaggle.com/arashnic)).\n",
    "\n",
    "### About the data\n",
    "According to its source, the dataset was generated by respondents to a distributed survey via Amazon Mechanical Turk and comprehends dates between 03-12-2016 and 05-12-2016. Thirty FitBit users consented to the submission of their personal tracker data – which includes a minute-level output for physical activity, heart rate, and sleep monitoring. Variation between output represents the use of different types of Fitbit trackers and individual tracking behaviors/preferences.\n",
    "\n",
    "This public dataset is comprised of 18 CSV files – each containing specific tracking information, such as daily calories, daily steps, etc. The data is organized in the long format, where an Id column identifies each user, and the remaining columns contain different attributes about the said user.\n",
    "\n",
    "In regard to data bias, considering that the dataset only gathers information of 33 FitBit users over the span of two months, it is important to keep in mind that there is a real possibility that the data isn’t a perfect representation of all FitBit users. However, we can still analyze the dataset and learn interesting information about the surveyed users and how they used their smart tracking devices over that time period."
   ]
  },
  {
   "cell_type": "markdown",
   "id": "67e7bbec",
   "metadata": {},
   "source": [
    "## 3. PROCESS\n",
    "<p>Load the libraries and datasets that are going to be used. Then, start with data exploration by getting an overview of the datasets, checking the data types, gathering a statistics summary, as well as cleaning the data.</p>"
   ]
  },
  {
   "cell_type": "markdown",
   "id": "365825e4",
   "metadata": {},
   "source": [
    "### Loading Libraries"
   ]
  },
  {
   "cell_type": "code",
   "execution_count": 4,
   "id": "456777c7",
   "metadata": {},
   "outputs": [],
   "source": [
    "import pandas as pd\n",
    "import numpy as np\n",
    "import matplotlib.pyplot as plt\n",
    "from pandas.api.types import CategoricalDtype"
   ]
  },
  {
   "cell_type": "markdown",
   "id": "0fb0cfa3",
   "metadata": {},
   "source": [
    "### Loading Datasets & Getting an overview of the data "
   ]
  },
  {
   "cell_type": "code",
   "execution_count": 5,
   "id": "0a94d8b7",
   "metadata": {},
   "outputs": [],
   "source": [
    "daily_activity = pd.read_csv(r'/Users/jessica/Desktop/BellaBeat/Data/daily_activity_merged.csv')"
   ]
  },
  {
   "cell_type": "code",
   "execution_count": 6,
   "id": "83a66710",
   "metadata": {},
   "outputs": [
    {
     "data": {
      "text/html": [
       "<div>\n",
       "<style scoped>\n",
       "    .dataframe tbody tr th:only-of-type {\n",
       "        vertical-align: middle;\n",
       "    }\n",
       "\n",
       "    .dataframe tbody tr th {\n",
       "        vertical-align: top;\n",
       "    }\n",
       "\n",
       "    .dataframe thead th {\n",
       "        text-align: right;\n",
       "    }\n",
       "</style>\n",
       "<table border=\"1\" class=\"dataframe\">\n",
       "  <thead>\n",
       "    <tr style=\"text-align: right;\">\n",
       "      <th></th>\n",
       "      <th>Id</th>\n",
       "      <th>ActivityDate</th>\n",
       "      <th>TotalSteps</th>\n",
       "      <th>TotalDistance</th>\n",
       "      <th>TrackerDistance</th>\n",
       "      <th>LoggedActivitiesDistance</th>\n",
       "      <th>VeryActiveDistance</th>\n",
       "      <th>ModeratelyActiveDistance</th>\n",
       "      <th>LightActiveDistance</th>\n",
       "      <th>SedentaryActiveDistance</th>\n",
       "      <th>VeryActiveMinutes</th>\n",
       "      <th>FairlyActiveMinutes</th>\n",
       "      <th>LightlyActiveMinutes</th>\n",
       "      <th>SedentaryMinutes</th>\n",
       "      <th>Calories</th>\n",
       "    </tr>\n",
       "  </thead>\n",
       "  <tbody>\n",
       "    <tr>\n",
       "      <th>0</th>\n",
       "      <td>1503960366</td>\n",
       "      <td>4/12/2016</td>\n",
       "      <td>13162</td>\n",
       "      <td>8.50</td>\n",
       "      <td>8.50</td>\n",
       "      <td>0.0</td>\n",
       "      <td>1.88</td>\n",
       "      <td>0.55</td>\n",
       "      <td>6.06</td>\n",
       "      <td>0.0</td>\n",
       "      <td>25</td>\n",
       "      <td>13</td>\n",
       "      <td>328</td>\n",
       "      <td>728</td>\n",
       "      <td>1985</td>\n",
       "    </tr>\n",
       "    <tr>\n",
       "      <th>1</th>\n",
       "      <td>1503960366</td>\n",
       "      <td>4/13/2016</td>\n",
       "      <td>10735</td>\n",
       "      <td>6.97</td>\n",
       "      <td>6.97</td>\n",
       "      <td>0.0</td>\n",
       "      <td>1.57</td>\n",
       "      <td>0.69</td>\n",
       "      <td>4.71</td>\n",
       "      <td>0.0</td>\n",
       "      <td>21</td>\n",
       "      <td>19</td>\n",
       "      <td>217</td>\n",
       "      <td>776</td>\n",
       "      <td>1797</td>\n",
       "    </tr>\n",
       "    <tr>\n",
       "      <th>2</th>\n",
       "      <td>1503960366</td>\n",
       "      <td>4/14/2016</td>\n",
       "      <td>10460</td>\n",
       "      <td>6.74</td>\n",
       "      <td>6.74</td>\n",
       "      <td>0.0</td>\n",
       "      <td>2.44</td>\n",
       "      <td>0.40</td>\n",
       "      <td>3.91</td>\n",
       "      <td>0.0</td>\n",
       "      <td>30</td>\n",
       "      <td>11</td>\n",
       "      <td>181</td>\n",
       "      <td>1218</td>\n",
       "      <td>1776</td>\n",
       "    </tr>\n",
       "    <tr>\n",
       "      <th>3</th>\n",
       "      <td>1503960366</td>\n",
       "      <td>4/15/2016</td>\n",
       "      <td>9762</td>\n",
       "      <td>6.28</td>\n",
       "      <td>6.28</td>\n",
       "      <td>0.0</td>\n",
       "      <td>2.14</td>\n",
       "      <td>1.26</td>\n",
       "      <td>2.83</td>\n",
       "      <td>0.0</td>\n",
       "      <td>29</td>\n",
       "      <td>34</td>\n",
       "      <td>209</td>\n",
       "      <td>726</td>\n",
       "      <td>1745</td>\n",
       "    </tr>\n",
       "    <tr>\n",
       "      <th>4</th>\n",
       "      <td>1503960366</td>\n",
       "      <td>4/16/2016</td>\n",
       "      <td>12669</td>\n",
       "      <td>8.16</td>\n",
       "      <td>8.16</td>\n",
       "      <td>0.0</td>\n",
       "      <td>2.71</td>\n",
       "      <td>0.41</td>\n",
       "      <td>5.04</td>\n",
       "      <td>0.0</td>\n",
       "      <td>36</td>\n",
       "      <td>10</td>\n",
       "      <td>221</td>\n",
       "      <td>773</td>\n",
       "      <td>1863</td>\n",
       "    </tr>\n",
       "  </tbody>\n",
       "</table>\n",
       "</div>"
      ],
      "text/plain": [
       "           Id ActivityDate  TotalSteps  TotalDistance  TrackerDistance  \\\n",
       "0  1503960366    4/12/2016       13162           8.50             8.50   \n",
       "1  1503960366    4/13/2016       10735           6.97             6.97   \n",
       "2  1503960366    4/14/2016       10460           6.74             6.74   \n",
       "3  1503960366    4/15/2016        9762           6.28             6.28   \n",
       "4  1503960366    4/16/2016       12669           8.16             8.16   \n",
       "\n",
       "   LoggedActivitiesDistance  VeryActiveDistance  ModeratelyActiveDistance  \\\n",
       "0                       0.0                1.88                      0.55   \n",
       "1                       0.0                1.57                      0.69   \n",
       "2                       0.0                2.44                      0.40   \n",
       "3                       0.0                2.14                      1.26   \n",
       "4                       0.0                2.71                      0.41   \n",
       "\n",
       "   LightActiveDistance  SedentaryActiveDistance  VeryActiveMinutes  \\\n",
       "0                 6.06                      0.0                 25   \n",
       "1                 4.71                      0.0                 21   \n",
       "2                 3.91                      0.0                 30   \n",
       "3                 2.83                      0.0                 29   \n",
       "4                 5.04                      0.0                 36   \n",
       "\n",
       "   FairlyActiveMinutes  LightlyActiveMinutes  SedentaryMinutes  Calories  \n",
       "0                   13                   328               728      1985  \n",
       "1                   19                   217               776      1797  \n",
       "2                   11                   181              1218      1776  \n",
       "3                   34                   209               726      1745  \n",
       "4                   10                   221               773      1863  "
      ]
     },
     "execution_count": 6,
     "metadata": {},
     "output_type": "execute_result"
    }
   ],
   "source": [
    "daily_activity.head()"
   ]
  },
  {
   "cell_type": "code",
   "execution_count": 7,
   "id": "7c9b3b55",
   "metadata": {},
   "outputs": [],
   "source": [
    "weight = pd.read_csv(r'/Users/jessica/Desktop/BellaBeat/Data/weightLogInfo_merged.csv')"
   ]
  },
  {
   "cell_type": "code",
   "execution_count": 8,
   "id": "cce036d3",
   "metadata": {},
   "outputs": [
    {
     "data": {
      "text/html": [
       "<div>\n",
       "<style scoped>\n",
       "    .dataframe tbody tr th:only-of-type {\n",
       "        vertical-align: middle;\n",
       "    }\n",
       "\n",
       "    .dataframe tbody tr th {\n",
       "        vertical-align: top;\n",
       "    }\n",
       "\n",
       "    .dataframe thead th {\n",
       "        text-align: right;\n",
       "    }\n",
       "</style>\n",
       "<table border=\"1\" class=\"dataframe\">\n",
       "  <thead>\n",
       "    <tr style=\"text-align: right;\">\n",
       "      <th></th>\n",
       "      <th>Id</th>\n",
       "      <th>Date</th>\n",
       "      <th>WeightKg</th>\n",
       "      <th>WeightPounds</th>\n",
       "      <th>Fat</th>\n",
       "      <th>BMI</th>\n",
       "      <th>IsManualReport</th>\n",
       "      <th>LogId</th>\n",
       "    </tr>\n",
       "  </thead>\n",
       "  <tbody>\n",
       "    <tr>\n",
       "      <th>0</th>\n",
       "      <td>1503960366</td>\n",
       "      <td>5/2/2016 11:59:59 PM</td>\n",
       "      <td>52.599998</td>\n",
       "      <td>115.963147</td>\n",
       "      <td>22.0</td>\n",
       "      <td>22.650000</td>\n",
       "      <td>True</td>\n",
       "      <td>1462233599000</td>\n",
       "    </tr>\n",
       "    <tr>\n",
       "      <th>1</th>\n",
       "      <td>1503960366</td>\n",
       "      <td>5/3/2016 11:59:59 PM</td>\n",
       "      <td>52.599998</td>\n",
       "      <td>115.963147</td>\n",
       "      <td>NaN</td>\n",
       "      <td>22.650000</td>\n",
       "      <td>True</td>\n",
       "      <td>1462319999000</td>\n",
       "    </tr>\n",
       "    <tr>\n",
       "      <th>2</th>\n",
       "      <td>1927972279</td>\n",
       "      <td>4/13/2016 1:08:52 AM</td>\n",
       "      <td>133.500000</td>\n",
       "      <td>294.317120</td>\n",
       "      <td>NaN</td>\n",
       "      <td>47.540001</td>\n",
       "      <td>False</td>\n",
       "      <td>1460509732000</td>\n",
       "    </tr>\n",
       "    <tr>\n",
       "      <th>3</th>\n",
       "      <td>2873212765</td>\n",
       "      <td>4/21/2016 11:59:59 PM</td>\n",
       "      <td>56.700001</td>\n",
       "      <td>125.002104</td>\n",
       "      <td>NaN</td>\n",
       "      <td>21.450001</td>\n",
       "      <td>True</td>\n",
       "      <td>1461283199000</td>\n",
       "    </tr>\n",
       "    <tr>\n",
       "      <th>4</th>\n",
       "      <td>2873212765</td>\n",
       "      <td>5/12/2016 11:59:59 PM</td>\n",
       "      <td>57.299999</td>\n",
       "      <td>126.324875</td>\n",
       "      <td>NaN</td>\n",
       "      <td>21.690001</td>\n",
       "      <td>True</td>\n",
       "      <td>1463097599000</td>\n",
       "    </tr>\n",
       "  </tbody>\n",
       "</table>\n",
       "</div>"
      ],
      "text/plain": [
       "           Id                   Date    WeightKg  WeightPounds   Fat  \\\n",
       "0  1503960366   5/2/2016 11:59:59 PM   52.599998    115.963147  22.0   \n",
       "1  1503960366   5/3/2016 11:59:59 PM   52.599998    115.963147   NaN   \n",
       "2  1927972279   4/13/2016 1:08:52 AM  133.500000    294.317120   NaN   \n",
       "3  2873212765  4/21/2016 11:59:59 PM   56.700001    125.002104   NaN   \n",
       "4  2873212765  5/12/2016 11:59:59 PM   57.299999    126.324875   NaN   \n",
       "\n",
       "         BMI  IsManualReport          LogId  \n",
       "0  22.650000            True  1462233599000  \n",
       "1  22.650000            True  1462319999000  \n",
       "2  47.540001           False  1460509732000  \n",
       "3  21.450001            True  1461283199000  \n",
       "4  21.690001            True  1463097599000  "
      ]
     },
     "execution_count": 8,
     "metadata": {},
     "output_type": "execute_result"
    }
   ],
   "source": [
    "weight.head()"
   ]
  },
  {
   "cell_type": "code",
   "execution_count": 9,
   "id": "629025a9",
   "metadata": {},
   "outputs": [],
   "source": [
    "sleep_day = pd.read_csv(r'/Users/jessica/Desktop/BellaBeat/Data/sleep_day_merged.csv')"
   ]
  },
  {
   "cell_type": "code",
   "execution_count": 10,
   "id": "ea81ee63",
   "metadata": {},
   "outputs": [
    {
     "data": {
      "text/html": [
       "<div>\n",
       "<style scoped>\n",
       "    .dataframe tbody tr th:only-of-type {\n",
       "        vertical-align: middle;\n",
       "    }\n",
       "\n",
       "    .dataframe tbody tr th {\n",
       "        vertical-align: top;\n",
       "    }\n",
       "\n",
       "    .dataframe thead th {\n",
       "        text-align: right;\n",
       "    }\n",
       "</style>\n",
       "<table border=\"1\" class=\"dataframe\">\n",
       "  <thead>\n",
       "    <tr style=\"text-align: right;\">\n",
       "      <th></th>\n",
       "      <th>Id</th>\n",
       "      <th>SleepDay</th>\n",
       "      <th>TotalSleepRecords</th>\n",
       "      <th>TotalMinutesAsleep</th>\n",
       "      <th>TotalTimeInBed</th>\n",
       "    </tr>\n",
       "  </thead>\n",
       "  <tbody>\n",
       "    <tr>\n",
       "      <th>0</th>\n",
       "      <td>1503960366</td>\n",
       "      <td>4/12/2016 12:00:00 AM</td>\n",
       "      <td>1</td>\n",
       "      <td>327</td>\n",
       "      <td>346</td>\n",
       "    </tr>\n",
       "    <tr>\n",
       "      <th>1</th>\n",
       "      <td>1503960366</td>\n",
       "      <td>4/13/2016 12:00:00 AM</td>\n",
       "      <td>2</td>\n",
       "      <td>384</td>\n",
       "      <td>407</td>\n",
       "    </tr>\n",
       "    <tr>\n",
       "      <th>2</th>\n",
       "      <td>1503960366</td>\n",
       "      <td>4/15/2016 12:00:00 AM</td>\n",
       "      <td>1</td>\n",
       "      <td>412</td>\n",
       "      <td>442</td>\n",
       "    </tr>\n",
       "    <tr>\n",
       "      <th>3</th>\n",
       "      <td>1503960366</td>\n",
       "      <td>4/16/2016 12:00:00 AM</td>\n",
       "      <td>2</td>\n",
       "      <td>340</td>\n",
       "      <td>367</td>\n",
       "    </tr>\n",
       "    <tr>\n",
       "      <th>4</th>\n",
       "      <td>1503960366</td>\n",
       "      <td>4/17/2016 12:00:00 AM</td>\n",
       "      <td>1</td>\n",
       "      <td>700</td>\n",
       "      <td>712</td>\n",
       "    </tr>\n",
       "  </tbody>\n",
       "</table>\n",
       "</div>"
      ],
      "text/plain": [
       "           Id               SleepDay  TotalSleepRecords  TotalMinutesAsleep  \\\n",
       "0  1503960366  4/12/2016 12:00:00 AM                  1                 327   \n",
       "1  1503960366  4/13/2016 12:00:00 AM                  2                 384   \n",
       "2  1503960366  4/15/2016 12:00:00 AM                  1                 412   \n",
       "3  1503960366  4/16/2016 12:00:00 AM                  2                 340   \n",
       "4  1503960366  4/17/2016 12:00:00 AM                  1                 700   \n",
       "\n",
       "   TotalTimeInBed  \n",
       "0             346  \n",
       "1             407  \n",
       "2             442  \n",
       "3             367  \n",
       "4             712  "
      ]
     },
     "execution_count": 10,
     "metadata": {},
     "output_type": "execute_result"
    }
   ],
   "source": [
    "sleep_day.head()"
   ]
  },
  {
   "cell_type": "code",
   "execution_count": 11,
   "id": "ddb51f43",
   "metadata": {},
   "outputs": [],
   "source": [
    "hourly_steps = pd.read_csv(r'/Users/jessica/Desktop/BellaBeat/Data/hourly_steps_merged.csv')"
   ]
  },
  {
   "cell_type": "code",
   "execution_count": 12,
   "id": "0c11e188",
   "metadata": {},
   "outputs": [
    {
     "data": {
      "text/html": [
       "<div>\n",
       "<style scoped>\n",
       "    .dataframe tbody tr th:only-of-type {\n",
       "        vertical-align: middle;\n",
       "    }\n",
       "\n",
       "    .dataframe tbody tr th {\n",
       "        vertical-align: top;\n",
       "    }\n",
       "\n",
       "    .dataframe thead th {\n",
       "        text-align: right;\n",
       "    }\n",
       "</style>\n",
       "<table border=\"1\" class=\"dataframe\">\n",
       "  <thead>\n",
       "    <tr style=\"text-align: right;\">\n",
       "      <th></th>\n",
       "      <th>Id</th>\n",
       "      <th>ActivityHour</th>\n",
       "      <th>StepTotal</th>\n",
       "    </tr>\n",
       "  </thead>\n",
       "  <tbody>\n",
       "    <tr>\n",
       "      <th>0</th>\n",
       "      <td>1503960366</td>\n",
       "      <td>4/12/2016 12:00:00 AM</td>\n",
       "      <td>373</td>\n",
       "    </tr>\n",
       "    <tr>\n",
       "      <th>1</th>\n",
       "      <td>1503960366</td>\n",
       "      <td>4/12/2016 1:00:00 AM</td>\n",
       "      <td>160</td>\n",
       "    </tr>\n",
       "    <tr>\n",
       "      <th>2</th>\n",
       "      <td>1503960366</td>\n",
       "      <td>4/12/2016 2:00:00 AM</td>\n",
       "      <td>151</td>\n",
       "    </tr>\n",
       "    <tr>\n",
       "      <th>3</th>\n",
       "      <td>1503960366</td>\n",
       "      <td>4/12/2016 3:00:00 AM</td>\n",
       "      <td>0</td>\n",
       "    </tr>\n",
       "    <tr>\n",
       "      <th>4</th>\n",
       "      <td>1503960366</td>\n",
       "      <td>4/12/2016 4:00:00 AM</td>\n",
       "      <td>0</td>\n",
       "    </tr>\n",
       "  </tbody>\n",
       "</table>\n",
       "</div>"
      ],
      "text/plain": [
       "           Id           ActivityHour  StepTotal\n",
       "0  1503960366  4/12/2016 12:00:00 AM        373\n",
       "1  1503960366   4/12/2016 1:00:00 AM        160\n",
       "2  1503960366   4/12/2016 2:00:00 AM        151\n",
       "3  1503960366   4/12/2016 3:00:00 AM          0\n",
       "4  1503960366   4/12/2016 4:00:00 AM          0"
      ]
     },
     "execution_count": 12,
     "metadata": {},
     "output_type": "execute_result"
    }
   ],
   "source": [
    "hourly_steps.head()"
   ]
  },
  {
   "cell_type": "code",
   "execution_count": 13,
   "id": "9bc777a6",
   "metadata": {},
   "outputs": [],
   "source": [
    "hourly_calories = pd.read_csv(r'/Users/jessica/Desktop/BellaBeat/Data/hourly_calories_merged.csv')"
   ]
  },
  {
   "cell_type": "code",
   "execution_count": 14,
   "id": "d6b79c07",
   "metadata": {},
   "outputs": [
    {
     "data": {
      "text/html": [
       "<div>\n",
       "<style scoped>\n",
       "    .dataframe tbody tr th:only-of-type {\n",
       "        vertical-align: middle;\n",
       "    }\n",
       "\n",
       "    .dataframe tbody tr th {\n",
       "        vertical-align: top;\n",
       "    }\n",
       "\n",
       "    .dataframe thead th {\n",
       "        text-align: right;\n",
       "    }\n",
       "</style>\n",
       "<table border=\"1\" class=\"dataframe\">\n",
       "  <thead>\n",
       "    <tr style=\"text-align: right;\">\n",
       "      <th></th>\n",
       "      <th>Id</th>\n",
       "      <th>ActivityHour</th>\n",
       "      <th>Calories</th>\n",
       "    </tr>\n",
       "  </thead>\n",
       "  <tbody>\n",
       "    <tr>\n",
       "      <th>0</th>\n",
       "      <td>1503960366</td>\n",
       "      <td>4/12/2016 12:00:00 AM</td>\n",
       "      <td>81</td>\n",
       "    </tr>\n",
       "    <tr>\n",
       "      <th>1</th>\n",
       "      <td>1503960366</td>\n",
       "      <td>4/12/2016 1:00:00 AM</td>\n",
       "      <td>61</td>\n",
       "    </tr>\n",
       "    <tr>\n",
       "      <th>2</th>\n",
       "      <td>1503960366</td>\n",
       "      <td>4/12/2016 2:00:00 AM</td>\n",
       "      <td>59</td>\n",
       "    </tr>\n",
       "    <tr>\n",
       "      <th>3</th>\n",
       "      <td>1503960366</td>\n",
       "      <td>4/12/2016 3:00:00 AM</td>\n",
       "      <td>47</td>\n",
       "    </tr>\n",
       "    <tr>\n",
       "      <th>4</th>\n",
       "      <td>1503960366</td>\n",
       "      <td>4/12/2016 4:00:00 AM</td>\n",
       "      <td>48</td>\n",
       "    </tr>\n",
       "  </tbody>\n",
       "</table>\n",
       "</div>"
      ],
      "text/plain": [
       "           Id           ActivityHour  Calories\n",
       "0  1503960366  4/12/2016 12:00:00 AM        81\n",
       "1  1503960366   4/12/2016 1:00:00 AM        61\n",
       "2  1503960366   4/12/2016 2:00:00 AM        59\n",
       "3  1503960366   4/12/2016 3:00:00 AM        47\n",
       "4  1503960366   4/12/2016 4:00:00 AM        48"
      ]
     },
     "execution_count": 14,
     "metadata": {},
     "output_type": "execute_result"
    }
   ],
   "source": [
    "hourly_calories.head()"
   ]
  },
  {
   "cell_type": "markdown",
   "id": "231eb27b",
   "metadata": {},
   "source": [
    "## Data Exploration"
   ]
  },
  {
   "cell_type": "markdown",
   "id": "77ea7a35",
   "metadata": {},
   "source": [
    "### Checking the data types in each dataset"
   ]
  },
  {
   "cell_type": "code",
   "execution_count": 15,
   "id": "05747e1d",
   "metadata": {},
   "outputs": [
    {
     "data": {
      "text/plain": [
       "Id                            int64\n",
       "ActivityDate                 object\n",
       "TotalSteps                    int64\n",
       "TotalDistance               float64\n",
       "TrackerDistance             float64\n",
       "LoggedActivitiesDistance    float64\n",
       "VeryActiveDistance          float64\n",
       "ModeratelyActiveDistance    float64\n",
       "LightActiveDistance         float64\n",
       "SedentaryActiveDistance     float64\n",
       "VeryActiveMinutes             int64\n",
       "FairlyActiveMinutes           int64\n",
       "LightlyActiveMinutes          int64\n",
       "SedentaryMinutes              int64\n",
       "Calories                      int64\n",
       "dtype: object"
      ]
     },
     "execution_count": 15,
     "metadata": {},
     "output_type": "execute_result"
    }
   ],
   "source": [
    "daily_activity.dtypes"
   ]
  },
  {
   "cell_type": "code",
   "execution_count": 16,
   "id": "11911350",
   "metadata": {},
   "outputs": [
    {
     "data": {
      "text/plain": [
       "Id                  int64\n",
       "Date               object\n",
       "WeightKg          float64\n",
       "WeightPounds      float64\n",
       "Fat               float64\n",
       "BMI               float64\n",
       "IsManualReport       bool\n",
       "LogId               int64\n",
       "dtype: object"
      ]
     },
     "execution_count": 16,
     "metadata": {},
     "output_type": "execute_result"
    }
   ],
   "source": [
    "weight.dtypes"
   ]
  },
  {
   "cell_type": "code",
   "execution_count": 17,
   "id": "bdb4f80f",
   "metadata": {},
   "outputs": [
    {
     "data": {
      "text/plain": [
       "Id                     int64\n",
       "SleepDay              object\n",
       "TotalSleepRecords      int64\n",
       "TotalMinutesAsleep     int64\n",
       "TotalTimeInBed         int64\n",
       "dtype: object"
      ]
     },
     "execution_count": 17,
     "metadata": {},
     "output_type": "execute_result"
    }
   ],
   "source": [
    "sleep_day.dtypes"
   ]
  },
  {
   "cell_type": "code",
   "execution_count": 18,
   "id": "9cc5a03d",
   "metadata": {},
   "outputs": [
    {
     "data": {
      "text/plain": [
       "Id               int64\n",
       "ActivityHour    object\n",
       "StepTotal        int64\n",
       "dtype: object"
      ]
     },
     "execution_count": 18,
     "metadata": {},
     "output_type": "execute_result"
    }
   ],
   "source": [
    "hourly_steps.dtypes"
   ]
  },
  {
   "cell_type": "code",
   "execution_count": 19,
   "id": "653cd1ba",
   "metadata": {},
   "outputs": [
    {
     "data": {
      "text/plain": [
       "Id               int64\n",
       "ActivityHour    object\n",
       "Calories         int64\n",
       "dtype: object"
      ]
     },
     "execution_count": 19,
     "metadata": {},
     "output_type": "execute_result"
    }
   ],
   "source": [
    "hourly_calories.dtypes"
   ]
  },
  {
   "cell_type": "markdown",
   "id": "dc9163ae",
   "metadata": {},
   "source": [
    "### Summary Statistics"
   ]
  },
  {
   "cell_type": "markdown",
   "id": "7dd404df",
   "metadata": {},
   "source": [
    "#### How many unique participants are there in each dataframe"
   ]
  },
  {
   "cell_type": "code",
   "execution_count": 20,
   "id": "0f0a8fc8",
   "metadata": {},
   "outputs": [
    {
     "data": {
      "text/plain": [
       "33"
      ]
     },
     "execution_count": 20,
     "metadata": {},
     "output_type": "execute_result"
    }
   ],
   "source": [
    "\n",
    "daily_activity.Id.nunique()"
   ]
  },
  {
   "cell_type": "code",
   "execution_count": 21,
   "id": "9bb658ca",
   "metadata": {},
   "outputs": [
    {
     "data": {
      "text/plain": [
       "8"
      ]
     },
     "execution_count": 21,
     "metadata": {},
     "output_type": "execute_result"
    }
   ],
   "source": [
    "weight.Id.nunique()"
   ]
  },
  {
   "cell_type": "code",
   "execution_count": 22,
   "id": "15f8732c",
   "metadata": {},
   "outputs": [
    {
     "data": {
      "text/plain": [
       "24"
      ]
     },
     "execution_count": 22,
     "metadata": {},
     "output_type": "execute_result"
    }
   ],
   "source": [
    "sleep_day.Id.nunique()"
   ]
  },
  {
   "cell_type": "code",
   "execution_count": 23,
   "id": "df263e1b",
   "metadata": {},
   "outputs": [
    {
     "data": {
      "text/plain": [
       "33"
      ]
     },
     "execution_count": 23,
     "metadata": {},
     "output_type": "execute_result"
    }
   ],
   "source": [
    "hourly_steps.Id.nunique()"
   ]
  },
  {
   "cell_type": "code",
   "execution_count": 24,
   "id": "362bcfbe",
   "metadata": {},
   "outputs": [
    {
     "data": {
      "text/plain": [
       "33"
      ]
     },
     "execution_count": 24,
     "metadata": {},
     "output_type": "execute_result"
    }
   ],
   "source": [
    "hourly_calories.Id.nunique()"
   ]
  },
  {
   "cell_type": "markdown",
   "id": "e40cd931",
   "metadata": {},
   "source": [
    ">**Note:** By looking at the above results, it seems like <b>not all 33 participants have logged their weight or sleep information on the app.</b>\n",
    "><p>The fact that <b>weight</b> dataset only contains information from eight users could be a red flag when it comes to making recommendations for the general public. Those users may not adequately represent the population, which could lead to bias results. Hence, I will not include this dataset in the analysis.</p>"
   ]
  },
  {
   "cell_type": "markdown",
   "id": "326ca3b1",
   "metadata": {},
   "source": [
    "#### How many rows are in each column?"
   ]
  },
  {
   "cell_type": "code",
   "execution_count": 25,
   "id": "87e8f20d",
   "metadata": {},
   "outputs": [
    {
     "data": {
      "text/plain": [
       "(940, 15)"
      ]
     },
     "execution_count": 25,
     "metadata": {},
     "output_type": "execute_result"
    }
   ],
   "source": [
    "daily_activity.shape"
   ]
  },
  {
   "cell_type": "code",
   "execution_count": 26,
   "id": "6b8fb450",
   "metadata": {},
   "outputs": [
    {
     "data": {
      "text/plain": [
       "(413, 5)"
      ]
     },
     "execution_count": 26,
     "metadata": {},
     "output_type": "execute_result"
    }
   ],
   "source": [
    "sleep_day.shape"
   ]
  },
  {
   "cell_type": "code",
   "execution_count": 27,
   "id": "5405b5e4",
   "metadata": {},
   "outputs": [
    {
     "data": {
      "text/plain": [
       "(22099, 3)"
      ]
     },
     "execution_count": 27,
     "metadata": {},
     "output_type": "execute_result"
    }
   ],
   "source": [
    "hourly_steps.shape"
   ]
  },
  {
   "cell_type": "code",
   "execution_count": 28,
   "id": "c539927e",
   "metadata": {},
   "outputs": [
    {
     "data": {
      "text/plain": [
       "(22099, 3)"
      ]
     },
     "execution_count": 28,
     "metadata": {},
     "output_type": "execute_result"
    }
   ],
   "source": [
    "hourly_calories.shape"
   ]
  },
  {
   "cell_type": "markdown",
   "id": "b15631ab",
   "metadata": {},
   "source": [
    "#### Daily Activity"
   ]
  },
  {
   "cell_type": "code",
   "execution_count": 29,
   "id": "9f9229ba",
   "metadata": {},
   "outputs": [
    {
     "data": {
      "text/html": [
       "<div>\n",
       "<style scoped>\n",
       "    .dataframe tbody tr th:only-of-type {\n",
       "        vertical-align: middle;\n",
       "    }\n",
       "\n",
       "    .dataframe tbody tr th {\n",
       "        vertical-align: top;\n",
       "    }\n",
       "\n",
       "    .dataframe thead th {\n",
       "        text-align: right;\n",
       "    }\n",
       "</style>\n",
       "<table border=\"1\" class=\"dataframe\">\n",
       "  <thead>\n",
       "    <tr style=\"text-align: right;\">\n",
       "      <th></th>\n",
       "      <th>Id</th>\n",
       "      <th>TotalSteps</th>\n",
       "      <th>TotalDistance</th>\n",
       "      <th>TrackerDistance</th>\n",
       "      <th>LoggedActivitiesDistance</th>\n",
       "      <th>VeryActiveDistance</th>\n",
       "      <th>ModeratelyActiveDistance</th>\n",
       "      <th>LightActiveDistance</th>\n",
       "      <th>SedentaryActiveDistance</th>\n",
       "      <th>VeryActiveMinutes</th>\n",
       "      <th>FairlyActiveMinutes</th>\n",
       "      <th>LightlyActiveMinutes</th>\n",
       "      <th>SedentaryMinutes</th>\n",
       "      <th>Calories</th>\n",
       "    </tr>\n",
       "  </thead>\n",
       "  <tbody>\n",
       "    <tr>\n",
       "      <th>count</th>\n",
       "      <td>9.400000e+02</td>\n",
       "      <td>940.000000</td>\n",
       "      <td>940.000000</td>\n",
       "      <td>940.000000</td>\n",
       "      <td>940.000000</td>\n",
       "      <td>940.000000</td>\n",
       "      <td>940.000000</td>\n",
       "      <td>940.000000</td>\n",
       "      <td>940.000000</td>\n",
       "      <td>940.000000</td>\n",
       "      <td>940.000000</td>\n",
       "      <td>940.000000</td>\n",
       "      <td>940.000000</td>\n",
       "      <td>940.000000</td>\n",
       "    </tr>\n",
       "    <tr>\n",
       "      <th>mean</th>\n",
       "      <td>4.855407e+09</td>\n",
       "      <td>7637.910638</td>\n",
       "      <td>5.489702</td>\n",
       "      <td>5.475351</td>\n",
       "      <td>0.108171</td>\n",
       "      <td>1.502681</td>\n",
       "      <td>0.567543</td>\n",
       "      <td>3.340819</td>\n",
       "      <td>0.001606</td>\n",
       "      <td>21.164894</td>\n",
       "      <td>13.564894</td>\n",
       "      <td>192.812766</td>\n",
       "      <td>991.210638</td>\n",
       "      <td>2303.609574</td>\n",
       "    </tr>\n",
       "    <tr>\n",
       "      <th>std</th>\n",
       "      <td>2.424805e+09</td>\n",
       "      <td>5087.150742</td>\n",
       "      <td>3.924606</td>\n",
       "      <td>3.907276</td>\n",
       "      <td>0.619897</td>\n",
       "      <td>2.658941</td>\n",
       "      <td>0.883580</td>\n",
       "      <td>2.040655</td>\n",
       "      <td>0.007346</td>\n",
       "      <td>32.844803</td>\n",
       "      <td>19.987404</td>\n",
       "      <td>109.174700</td>\n",
       "      <td>301.267437</td>\n",
       "      <td>718.166862</td>\n",
       "    </tr>\n",
       "    <tr>\n",
       "      <th>min</th>\n",
       "      <td>1.503960e+09</td>\n",
       "      <td>0.000000</td>\n",
       "      <td>0.000000</td>\n",
       "      <td>0.000000</td>\n",
       "      <td>0.000000</td>\n",
       "      <td>0.000000</td>\n",
       "      <td>0.000000</td>\n",
       "      <td>0.000000</td>\n",
       "      <td>0.000000</td>\n",
       "      <td>0.000000</td>\n",
       "      <td>0.000000</td>\n",
       "      <td>0.000000</td>\n",
       "      <td>0.000000</td>\n",
       "      <td>0.000000</td>\n",
       "    </tr>\n",
       "    <tr>\n",
       "      <th>25%</th>\n",
       "      <td>2.320127e+09</td>\n",
       "      <td>3789.750000</td>\n",
       "      <td>2.620000</td>\n",
       "      <td>2.620000</td>\n",
       "      <td>0.000000</td>\n",
       "      <td>0.000000</td>\n",
       "      <td>0.000000</td>\n",
       "      <td>1.945000</td>\n",
       "      <td>0.000000</td>\n",
       "      <td>0.000000</td>\n",
       "      <td>0.000000</td>\n",
       "      <td>127.000000</td>\n",
       "      <td>729.750000</td>\n",
       "      <td>1828.500000</td>\n",
       "    </tr>\n",
       "    <tr>\n",
       "      <th>50%</th>\n",
       "      <td>4.445115e+09</td>\n",
       "      <td>7405.500000</td>\n",
       "      <td>5.245000</td>\n",
       "      <td>5.245000</td>\n",
       "      <td>0.000000</td>\n",
       "      <td>0.210000</td>\n",
       "      <td>0.240000</td>\n",
       "      <td>3.365000</td>\n",
       "      <td>0.000000</td>\n",
       "      <td>4.000000</td>\n",
       "      <td>6.000000</td>\n",
       "      <td>199.000000</td>\n",
       "      <td>1057.500000</td>\n",
       "      <td>2134.000000</td>\n",
       "    </tr>\n",
       "    <tr>\n",
       "      <th>75%</th>\n",
       "      <td>6.962181e+09</td>\n",
       "      <td>10727.000000</td>\n",
       "      <td>7.712500</td>\n",
       "      <td>7.710000</td>\n",
       "      <td>0.000000</td>\n",
       "      <td>2.052500</td>\n",
       "      <td>0.800000</td>\n",
       "      <td>4.782500</td>\n",
       "      <td>0.000000</td>\n",
       "      <td>32.000000</td>\n",
       "      <td>19.000000</td>\n",
       "      <td>264.000000</td>\n",
       "      <td>1229.500000</td>\n",
       "      <td>2793.250000</td>\n",
       "    </tr>\n",
       "    <tr>\n",
       "      <th>max</th>\n",
       "      <td>8.877689e+09</td>\n",
       "      <td>36019.000000</td>\n",
       "      <td>28.030001</td>\n",
       "      <td>28.030001</td>\n",
       "      <td>4.942142</td>\n",
       "      <td>21.920000</td>\n",
       "      <td>6.480000</td>\n",
       "      <td>10.710000</td>\n",
       "      <td>0.110000</td>\n",
       "      <td>210.000000</td>\n",
       "      <td>143.000000</td>\n",
       "      <td>518.000000</td>\n",
       "      <td>1440.000000</td>\n",
       "      <td>4900.000000</td>\n",
       "    </tr>\n",
       "  </tbody>\n",
       "</table>\n",
       "</div>"
      ],
      "text/plain": [
       "                 Id    TotalSteps  TotalDistance  TrackerDistance  \\\n",
       "count  9.400000e+02    940.000000     940.000000       940.000000   \n",
       "mean   4.855407e+09   7637.910638       5.489702         5.475351   \n",
       "std    2.424805e+09   5087.150742       3.924606         3.907276   \n",
       "min    1.503960e+09      0.000000       0.000000         0.000000   \n",
       "25%    2.320127e+09   3789.750000       2.620000         2.620000   \n",
       "50%    4.445115e+09   7405.500000       5.245000         5.245000   \n",
       "75%    6.962181e+09  10727.000000       7.712500         7.710000   \n",
       "max    8.877689e+09  36019.000000      28.030001        28.030001   \n",
       "\n",
       "       LoggedActivitiesDistance  VeryActiveDistance  ModeratelyActiveDistance  \\\n",
       "count                940.000000          940.000000                940.000000   \n",
       "mean                   0.108171            1.502681                  0.567543   \n",
       "std                    0.619897            2.658941                  0.883580   \n",
       "min                    0.000000            0.000000                  0.000000   \n",
       "25%                    0.000000            0.000000                  0.000000   \n",
       "50%                    0.000000            0.210000                  0.240000   \n",
       "75%                    0.000000            2.052500                  0.800000   \n",
       "max                    4.942142           21.920000                  6.480000   \n",
       "\n",
       "       LightActiveDistance  SedentaryActiveDistance  VeryActiveMinutes  \\\n",
       "count           940.000000               940.000000         940.000000   \n",
       "mean              3.340819                 0.001606          21.164894   \n",
       "std               2.040655                 0.007346          32.844803   \n",
       "min               0.000000                 0.000000           0.000000   \n",
       "25%               1.945000                 0.000000           0.000000   \n",
       "50%               3.365000                 0.000000           4.000000   \n",
       "75%               4.782500                 0.000000          32.000000   \n",
       "max              10.710000                 0.110000         210.000000   \n",
       "\n",
       "       FairlyActiveMinutes  LightlyActiveMinutes  SedentaryMinutes  \\\n",
       "count           940.000000            940.000000        940.000000   \n",
       "mean             13.564894            192.812766        991.210638   \n",
       "std              19.987404            109.174700        301.267437   \n",
       "min               0.000000              0.000000          0.000000   \n",
       "25%               0.000000            127.000000        729.750000   \n",
       "50%               6.000000            199.000000       1057.500000   \n",
       "75%              19.000000            264.000000       1229.500000   \n",
       "max             143.000000            518.000000       1440.000000   \n",
       "\n",
       "          Calories  \n",
       "count   940.000000  \n",
       "mean   2303.609574  \n",
       "std     718.166862  \n",
       "min       0.000000  \n",
       "25%    1828.500000  \n",
       "50%    2134.000000  \n",
       "75%    2793.250000  \n",
       "max    4900.000000  "
      ]
     },
     "execution_count": 29,
     "metadata": {},
     "output_type": "execute_result"
    }
   ],
   "source": [
    "daily_activity.describe()"
   ]
  },
  {
   "cell_type": "code",
   "execution_count": 30,
   "id": "310006e0",
   "metadata": {},
   "outputs": [
    {
     "data": {
      "text/html": [
       "<div>\n",
       "<style scoped>\n",
       "    .dataframe tbody tr th:only-of-type {\n",
       "        vertical-align: middle;\n",
       "    }\n",
       "\n",
       "    .dataframe tbody tr th {\n",
       "        vertical-align: top;\n",
       "    }\n",
       "\n",
       "    .dataframe thead th {\n",
       "        text-align: right;\n",
       "    }\n",
       "</style>\n",
       "<table border=\"1\" class=\"dataframe\">\n",
       "  <thead>\n",
       "    <tr style=\"text-align: right;\">\n",
       "      <th></th>\n",
       "      <th>Id</th>\n",
       "      <th>TotalSleepRecords</th>\n",
       "      <th>TotalMinutesAsleep</th>\n",
       "      <th>TotalTimeInBed</th>\n",
       "    </tr>\n",
       "  </thead>\n",
       "  <tbody>\n",
       "    <tr>\n",
       "      <th>count</th>\n",
       "      <td>4.130000e+02</td>\n",
       "      <td>413.000000</td>\n",
       "      <td>413.000000</td>\n",
       "      <td>413.000000</td>\n",
       "    </tr>\n",
       "    <tr>\n",
       "      <th>mean</th>\n",
       "      <td>5.000979e+09</td>\n",
       "      <td>1.118644</td>\n",
       "      <td>419.467312</td>\n",
       "      <td>458.639225</td>\n",
       "    </tr>\n",
       "    <tr>\n",
       "      <th>std</th>\n",
       "      <td>2.060360e+09</td>\n",
       "      <td>0.345521</td>\n",
       "      <td>118.344679</td>\n",
       "      <td>127.101607</td>\n",
       "    </tr>\n",
       "    <tr>\n",
       "      <th>min</th>\n",
       "      <td>1.503960e+09</td>\n",
       "      <td>1.000000</td>\n",
       "      <td>58.000000</td>\n",
       "      <td>61.000000</td>\n",
       "    </tr>\n",
       "    <tr>\n",
       "      <th>25%</th>\n",
       "      <td>3.977334e+09</td>\n",
       "      <td>1.000000</td>\n",
       "      <td>361.000000</td>\n",
       "      <td>403.000000</td>\n",
       "    </tr>\n",
       "    <tr>\n",
       "      <th>50%</th>\n",
       "      <td>4.702922e+09</td>\n",
       "      <td>1.000000</td>\n",
       "      <td>433.000000</td>\n",
       "      <td>463.000000</td>\n",
       "    </tr>\n",
       "    <tr>\n",
       "      <th>75%</th>\n",
       "      <td>6.962181e+09</td>\n",
       "      <td>1.000000</td>\n",
       "      <td>490.000000</td>\n",
       "      <td>526.000000</td>\n",
       "    </tr>\n",
       "    <tr>\n",
       "      <th>max</th>\n",
       "      <td>8.792010e+09</td>\n",
       "      <td>3.000000</td>\n",
       "      <td>796.000000</td>\n",
       "      <td>961.000000</td>\n",
       "    </tr>\n",
       "  </tbody>\n",
       "</table>\n",
       "</div>"
      ],
      "text/plain": [
       "                 Id  TotalSleepRecords  TotalMinutesAsleep  TotalTimeInBed\n",
       "count  4.130000e+02         413.000000          413.000000      413.000000\n",
       "mean   5.000979e+09           1.118644          419.467312      458.639225\n",
       "std    2.060360e+09           0.345521          118.344679      127.101607\n",
       "min    1.503960e+09           1.000000           58.000000       61.000000\n",
       "25%    3.977334e+09           1.000000          361.000000      403.000000\n",
       "50%    4.702922e+09           1.000000          433.000000      463.000000\n",
       "75%    6.962181e+09           1.000000          490.000000      526.000000\n",
       "max    8.792010e+09           3.000000          796.000000      961.000000"
      ]
     },
     "execution_count": 30,
     "metadata": {},
     "output_type": "execute_result"
    }
   ],
   "source": [
    "sleep_day.describe()"
   ]
  },
  {
   "cell_type": "code",
   "execution_count": 31,
   "id": "bb03c3a1",
   "metadata": {},
   "outputs": [
    {
     "data": {
      "text/html": [
       "<div>\n",
       "<style scoped>\n",
       "    .dataframe tbody tr th:only-of-type {\n",
       "        vertical-align: middle;\n",
       "    }\n",
       "\n",
       "    .dataframe tbody tr th {\n",
       "        vertical-align: top;\n",
       "    }\n",
       "\n",
       "    .dataframe thead th {\n",
       "        text-align: right;\n",
       "    }\n",
       "</style>\n",
       "<table border=\"1\" class=\"dataframe\">\n",
       "  <thead>\n",
       "    <tr style=\"text-align: right;\">\n",
       "      <th></th>\n",
       "      <th>Id</th>\n",
       "      <th>StepTotal</th>\n",
       "    </tr>\n",
       "  </thead>\n",
       "  <tbody>\n",
       "    <tr>\n",
       "      <th>count</th>\n",
       "      <td>2.209900e+04</td>\n",
       "      <td>22099.000000</td>\n",
       "    </tr>\n",
       "    <tr>\n",
       "      <th>mean</th>\n",
       "      <td>4.848235e+09</td>\n",
       "      <td>320.166342</td>\n",
       "    </tr>\n",
       "    <tr>\n",
       "      <th>std</th>\n",
       "      <td>2.422500e+09</td>\n",
       "      <td>690.384228</td>\n",
       "    </tr>\n",
       "    <tr>\n",
       "      <th>min</th>\n",
       "      <td>1.503960e+09</td>\n",
       "      <td>0.000000</td>\n",
       "    </tr>\n",
       "    <tr>\n",
       "      <th>25%</th>\n",
       "      <td>2.320127e+09</td>\n",
       "      <td>0.000000</td>\n",
       "    </tr>\n",
       "    <tr>\n",
       "      <th>50%</th>\n",
       "      <td>4.445115e+09</td>\n",
       "      <td>40.000000</td>\n",
       "    </tr>\n",
       "    <tr>\n",
       "      <th>75%</th>\n",
       "      <td>6.962181e+09</td>\n",
       "      <td>357.000000</td>\n",
       "    </tr>\n",
       "    <tr>\n",
       "      <th>max</th>\n",
       "      <td>8.877689e+09</td>\n",
       "      <td>10554.000000</td>\n",
       "    </tr>\n",
       "  </tbody>\n",
       "</table>\n",
       "</div>"
      ],
      "text/plain": [
       "                 Id     StepTotal\n",
       "count  2.209900e+04  22099.000000\n",
       "mean   4.848235e+09    320.166342\n",
       "std    2.422500e+09    690.384228\n",
       "min    1.503960e+09      0.000000\n",
       "25%    2.320127e+09      0.000000\n",
       "50%    4.445115e+09     40.000000\n",
       "75%    6.962181e+09    357.000000\n",
       "max    8.877689e+09  10554.000000"
      ]
     },
     "execution_count": 31,
     "metadata": {},
     "output_type": "execute_result"
    }
   ],
   "source": [
    "hourly_steps.describe()"
   ]
  },
  {
   "cell_type": "code",
   "execution_count": 32,
   "id": "3c7ee76c",
   "metadata": {},
   "outputs": [
    {
     "data": {
      "text/html": [
       "<div>\n",
       "<style scoped>\n",
       "    .dataframe tbody tr th:only-of-type {\n",
       "        vertical-align: middle;\n",
       "    }\n",
       "\n",
       "    .dataframe tbody tr th {\n",
       "        vertical-align: top;\n",
       "    }\n",
       "\n",
       "    .dataframe thead th {\n",
       "        text-align: right;\n",
       "    }\n",
       "</style>\n",
       "<table border=\"1\" class=\"dataframe\">\n",
       "  <thead>\n",
       "    <tr style=\"text-align: right;\">\n",
       "      <th></th>\n",
       "      <th>Id</th>\n",
       "      <th>Calories</th>\n",
       "    </tr>\n",
       "  </thead>\n",
       "  <tbody>\n",
       "    <tr>\n",
       "      <th>count</th>\n",
       "      <td>2.209900e+04</td>\n",
       "      <td>22099.000000</td>\n",
       "    </tr>\n",
       "    <tr>\n",
       "      <th>mean</th>\n",
       "      <td>4.848235e+09</td>\n",
       "      <td>97.386760</td>\n",
       "    </tr>\n",
       "    <tr>\n",
       "      <th>std</th>\n",
       "      <td>2.422500e+09</td>\n",
       "      <td>60.702622</td>\n",
       "    </tr>\n",
       "    <tr>\n",
       "      <th>min</th>\n",
       "      <td>1.503960e+09</td>\n",
       "      <td>42.000000</td>\n",
       "    </tr>\n",
       "    <tr>\n",
       "      <th>25%</th>\n",
       "      <td>2.320127e+09</td>\n",
       "      <td>63.000000</td>\n",
       "    </tr>\n",
       "    <tr>\n",
       "      <th>50%</th>\n",
       "      <td>4.445115e+09</td>\n",
       "      <td>83.000000</td>\n",
       "    </tr>\n",
       "    <tr>\n",
       "      <th>75%</th>\n",
       "      <td>6.962181e+09</td>\n",
       "      <td>108.000000</td>\n",
       "    </tr>\n",
       "    <tr>\n",
       "      <th>max</th>\n",
       "      <td>8.877689e+09</td>\n",
       "      <td>948.000000</td>\n",
       "    </tr>\n",
       "  </tbody>\n",
       "</table>\n",
       "</div>"
      ],
      "text/plain": [
       "                 Id      Calories\n",
       "count  2.209900e+04  22099.000000\n",
       "mean   4.848235e+09     97.386760\n",
       "std    2.422500e+09     60.702622\n",
       "min    1.503960e+09     42.000000\n",
       "25%    2.320127e+09     63.000000\n",
       "50%    4.445115e+09     83.000000\n",
       "75%    6.962181e+09    108.000000\n",
       "max    8.877689e+09    948.000000"
      ]
     },
     "execution_count": 32,
     "metadata": {},
     "output_type": "execute_result"
    }
   ],
   "source": [
    "hourly_calories.describe()"
   ]
  },
  {
   "cell_type": "markdown",
   "id": "bcc8c4f0",
   "metadata": {},
   "source": [
    "### Cleaning Data"
   ]
  },
  {
   "cell_type": "markdown",
   "id": "cafc8e47",
   "metadata": {},
   "source": [
    "#### Checking for empty cells"
   ]
  },
  {
   "cell_type": "code",
   "execution_count": 33,
   "id": "febe7c34",
   "metadata": {},
   "outputs": [
    {
     "data": {
      "text/plain": [
       "Id                          False\n",
       "ActivityDate                False\n",
       "TotalSteps                  False\n",
       "TotalDistance               False\n",
       "TrackerDistance             False\n",
       "LoggedActivitiesDistance    False\n",
       "VeryActiveDistance          False\n",
       "ModeratelyActiveDistance    False\n",
       "LightActiveDistance         False\n",
       "SedentaryActiveDistance     False\n",
       "VeryActiveMinutes           False\n",
       "FairlyActiveMinutes         False\n",
       "LightlyActiveMinutes        False\n",
       "SedentaryMinutes            False\n",
       "Calories                    False\n",
       "dtype: bool"
      ]
     },
     "execution_count": 33,
     "metadata": {},
     "output_type": "execute_result"
    }
   ],
   "source": [
    "daily_activity.isnull().any()"
   ]
  },
  {
   "cell_type": "code",
   "execution_count": 34,
   "id": "6c363db6",
   "metadata": {},
   "outputs": [
    {
     "data": {
      "text/plain": [
       "Id                    False\n",
       "SleepDay              False\n",
       "TotalSleepRecords     False\n",
       "TotalMinutesAsleep    False\n",
       "TotalTimeInBed        False\n",
       "dtype: bool"
      ]
     },
     "execution_count": 34,
     "metadata": {},
     "output_type": "execute_result"
    }
   ],
   "source": [
    "sleep_day.isnull().any()"
   ]
  },
  {
   "cell_type": "code",
   "execution_count": 35,
   "id": "f04164ff",
   "metadata": {},
   "outputs": [
    {
     "data": {
      "text/plain": [
       "Id              False\n",
       "ActivityHour    False\n",
       "StepTotal       False\n",
       "dtype: bool"
      ]
     },
     "execution_count": 35,
     "metadata": {},
     "output_type": "execute_result"
    }
   ],
   "source": [
    "hourly_steps.isnull().any()"
   ]
  },
  {
   "cell_type": "code",
   "execution_count": 36,
   "id": "11c9b90b",
   "metadata": {},
   "outputs": [
    {
     "data": {
      "text/plain": [
       "Id              False\n",
       "ActivityHour    False\n",
       "Calories        False\n",
       "dtype: bool"
      ]
     },
     "execution_count": 36,
     "metadata": {},
     "output_type": "execute_result"
    }
   ],
   "source": [
    "hourly_calories.isnull().any()"
   ]
  },
  {
   "cell_type": "markdown",
   "id": "161a85f0",
   "metadata": {},
   "source": [
    ">No observations found missing values(NaN)"
   ]
  },
  {
   "cell_type": "markdown",
   "id": "e74ae3a9",
   "metadata": {},
   "source": [
    "#### Looking for duplicate values"
   ]
  },
  {
   "cell_type": "code",
   "execution_count": 37,
   "id": "5afeccb8",
   "metadata": {},
   "outputs": [
    {
     "data": {
      "text/plain": [
       "0      False\n",
       "1      False\n",
       "2      False\n",
       "3      False\n",
       "4      False\n",
       "       ...  \n",
       "935    False\n",
       "936    False\n",
       "937    False\n",
       "938    False\n",
       "939    False\n",
       "Length: 940, dtype: bool"
      ]
     },
     "execution_count": 37,
     "metadata": {},
     "output_type": "execute_result"
    }
   ],
   "source": [
    "daily_activity.duplicated()"
   ]
  },
  {
   "cell_type": "code",
   "execution_count": 38,
   "id": "06967d45",
   "metadata": {},
   "outputs": [
    {
     "data": {
      "text/plain": [
       "0      False\n",
       "1      False\n",
       "2      False\n",
       "3      False\n",
       "4      False\n",
       "       ...  \n",
       "408    False\n",
       "409    False\n",
       "410    False\n",
       "411    False\n",
       "412    False\n",
       "Length: 413, dtype: bool"
      ]
     },
     "execution_count": 38,
     "metadata": {},
     "output_type": "execute_result"
    }
   ],
   "source": [
    "sleep_day.duplicated()"
   ]
  },
  {
   "cell_type": "code",
   "execution_count": 39,
   "id": "948194dd",
   "metadata": {},
   "outputs": [
    {
     "data": {
      "text/plain": [
       "0        False\n",
       "1        False\n",
       "2        False\n",
       "3        False\n",
       "4        False\n",
       "         ...  \n",
       "22094    False\n",
       "22095    False\n",
       "22096    False\n",
       "22097    False\n",
       "22098    False\n",
       "Length: 22099, dtype: bool"
      ]
     },
     "execution_count": 39,
     "metadata": {},
     "output_type": "execute_result"
    }
   ],
   "source": [
    "hourly_steps.duplicated()"
   ]
  },
  {
   "cell_type": "code",
   "execution_count": 40,
   "id": "44540e82",
   "metadata": {},
   "outputs": [
    {
     "data": {
      "text/plain": [
       "0        False\n",
       "1        False\n",
       "2        False\n",
       "3        False\n",
       "4        False\n",
       "         ...  \n",
       "22094    False\n",
       "22095    False\n",
       "22096    False\n",
       "22097    False\n",
       "22098    False\n",
       "Length: 22099, dtype: bool"
      ]
     },
     "execution_count": 40,
     "metadata": {},
     "output_type": "execute_result"
    }
   ],
   "source": [
    "hourly_calories.duplicated()"
   ]
  },
  {
   "cell_type": "markdown",
   "id": "6038c7aa",
   "metadata": {},
   "source": [
    "><p>No duplicate rows found.</p>"
   ]
  },
  {
   "cell_type": "markdown",
   "id": "d9be2f32",
   "metadata": {},
   "source": [
    "# 4. ANALYZE"
   ]
  },
  {
   "cell_type": "markdown",
   "id": "f0a2ea23",
   "metadata": {},
   "source": [
    "<p>Now we will perform data transformation, change data formatting if necessary and merge datasets in order to perform analysis. We will also aggregate and group data to perform calculations and answer questions like the average of total steps by day of the week, the average number of daily steps taken by the user, and the most active time of day.</p>"
   ]
  },
  {
   "cell_type": "markdown",
   "id": "b70832cd",
   "metadata": {},
   "source": [
    "### Data Transformations\n",
    "<p>On this next step, I will transform certain aspects of the data in order to analyze them.</p>"
   ]
  },
  {
   "cell_type": "markdown",
   "id": "438eb64c",
   "metadata": {},
   "source": [
    "#### Renaming the date column\n",
    "<p>The date column is named differently across the dataset, so let's rename to make it easier for when we merge the datasets later.</p>"
   ]
  },
  {
   "cell_type": "code",
   "execution_count": 41,
   "id": "6e4967b9",
   "metadata": {},
   "outputs": [],
   "source": [
    "daily_activity = daily_activity.rename(columns={'ActivityDate' : 'Date'})"
   ]
  },
  {
   "cell_type": "code",
   "execution_count": 42,
   "id": "0d0a8e31",
   "metadata": {},
   "outputs": [],
   "source": [
    "sleep_day = sleep_day.rename(columns={'SleepDay' : 'Date'})"
   ]
  },
  {
   "cell_type": "code",
   "execution_count": 43,
   "id": "6fcf7730",
   "metadata": {},
   "outputs": [],
   "source": [
    "hourly_steps = hourly_steps.rename(columns={'ActivityHour' : 'Time'})"
   ]
  },
  {
   "cell_type": "code",
   "execution_count": 44,
   "id": "08d8f8e8",
   "metadata": {},
   "outputs": [],
   "source": [
    "hourly_calories = hourly_calories.rename(columns={'ActivityHour' : 'Time'})"
   ]
  },
  {
   "cell_type": "markdown",
   "id": "912c061d",
   "metadata": {},
   "source": [
    "#### Changing data formatting\n",
    "<p>Looking at the results above, we can see the date column in all dataframes are of type object. We need to change the data type to datetime to perform calculations.</p>"
   ]
  },
  {
   "cell_type": "code",
   "execution_count": 45,
   "id": "9736f721",
   "metadata": {},
   "outputs": [],
   "source": [
    "daily_activity['Date'] = pd.to_datetime(daily_activity['Date'])"
   ]
  },
  {
   "cell_type": "code",
   "execution_count": 46,
   "id": "d629aba0",
   "metadata": {},
   "outputs": [],
   "source": [
    "sleep_day['Date'] = pd.to_datetime(sleep_day['Date'])"
   ]
  },
  {
   "cell_type": "code",
   "execution_count": 47,
   "id": "77f2c5ff",
   "metadata": {},
   "outputs": [],
   "source": [
    "hourly_steps['Time'] = pd.to_datetime(hourly_steps['Time'])"
   ]
  },
  {
   "cell_type": "code",
   "execution_count": 48,
   "id": "046923cf",
   "metadata": {},
   "outputs": [],
   "source": [
    "hourly_calories['Time'] = pd.to_datetime(hourly_calories['Time'])"
   ]
  },
  {
   "cell_type": "markdown",
   "id": "2b1f5ed8",
   "metadata": {},
   "source": [
    "#### Create a day of the week column\n",
    "<p>Creating day of the week deriving from the date column so we can better analyze our data</p>"
   ]
  },
  {
   "cell_type": "code",
   "execution_count": 49,
   "id": "27c58d17",
   "metadata": {},
   "outputs": [],
   "source": [
    "daily_activity['DayofWeek'] = daily_activity['Date'].dt.day_name()"
   ]
  },
  {
   "cell_type": "code",
   "execution_count": 50,
   "id": "9bfaf8bd",
   "metadata": {},
   "outputs": [],
   "source": [
    "hourly_steps['DayofWeek'] = hourly_steps['Time'].dt.day_name()"
   ]
  },
  {
   "cell_type": "markdown",
   "id": "d62b5e24",
   "metadata": {},
   "source": [
    "#### Merging the datasets\n",
    "<p>Combining some of our datasets can make the analysis process easier and help find trends in our data.</p>"
   ]
  },
  {
   "cell_type": "code",
   "execution_count": 51,
   "id": "32d4f00a",
   "metadata": {},
   "outputs": [],
   "source": [
    "# Merging daily_activity and sleep_day datasets\n",
    "daily_activity_sleep_day_merged = pd.merge(daily_activity, sleep_day, on='Date')"
   ]
  },
  {
   "cell_type": "code",
   "execution_count": 52,
   "id": "ef278cb6",
   "metadata": {},
   "outputs": [
    {
     "data": {
      "text/plain": [
       "Id_x                        False\n",
       "Date                        False\n",
       "TotalSteps                  False\n",
       "TotalDistance               False\n",
       "TrackerDistance             False\n",
       "LoggedActivitiesDistance    False\n",
       "VeryActiveDistance          False\n",
       "ModeratelyActiveDistance    False\n",
       "LightActiveDistance         False\n",
       "SedentaryActiveDistance     False\n",
       "VeryActiveMinutes           False\n",
       "FairlyActiveMinutes         False\n",
       "LightlyActiveMinutes        False\n",
       "SedentaryMinutes            False\n",
       "Calories                    False\n",
       "DayofWeek                   False\n",
       "Id_y                        False\n",
       "TotalSleepRecords           False\n",
       "TotalMinutesAsleep          False\n",
       "TotalTimeInBed              False\n",
       "dtype: bool"
      ]
     },
     "execution_count": 52,
     "metadata": {},
     "output_type": "execute_result"
    }
   ],
   "source": [
    "daily_activity_sleep_day_merged.isnull().any()"
   ]
  },
  {
   "cell_type": "code",
   "execution_count": 53,
   "id": "5706c410",
   "metadata": {},
   "outputs": [
    {
     "data": {
      "text/html": [
       "<div>\n",
       "<style scoped>\n",
       "    .dataframe tbody tr th:only-of-type {\n",
       "        vertical-align: middle;\n",
       "    }\n",
       "\n",
       "    .dataframe tbody tr th {\n",
       "        vertical-align: top;\n",
       "    }\n",
       "\n",
       "    .dataframe thead th {\n",
       "        text-align: right;\n",
       "    }\n",
       "</style>\n",
       "<table border=\"1\" class=\"dataframe\">\n",
       "  <thead>\n",
       "    <tr style=\"text-align: right;\">\n",
       "      <th></th>\n",
       "      <th>Id_Activity</th>\n",
       "      <th>Date</th>\n",
       "      <th>TotalSteps</th>\n",
       "      <th>TotalDistance</th>\n",
       "      <th>TrackerDistance</th>\n",
       "      <th>LoggedActivitiesDistance</th>\n",
       "      <th>VeryActiveDistance</th>\n",
       "      <th>ModeratelyActiveDistance</th>\n",
       "      <th>LightActiveDistance</th>\n",
       "      <th>SedentaryActiveDistance</th>\n",
       "      <th>VeryActiveMinutes</th>\n",
       "      <th>FairlyActiveMinutes</th>\n",
       "      <th>LightlyActiveMinutes</th>\n",
       "      <th>SedentaryMinutes</th>\n",
       "      <th>Calories</th>\n",
       "      <th>DayofWeek</th>\n",
       "      <th>Id_Sleep</th>\n",
       "      <th>TotalSleepRecords</th>\n",
       "      <th>TotalMinutesAsleep</th>\n",
       "      <th>TotalTimeInBed</th>\n",
       "    </tr>\n",
       "  </thead>\n",
       "  <tbody>\n",
       "    <tr>\n",
       "      <th>0</th>\n",
       "      <td>1503960366</td>\n",
       "      <td>2016-04-12</td>\n",
       "      <td>13162</td>\n",
       "      <td>8.5</td>\n",
       "      <td>8.5</td>\n",
       "      <td>0.0</td>\n",
       "      <td>1.88</td>\n",
       "      <td>0.55</td>\n",
       "      <td>6.06</td>\n",
       "      <td>0.0</td>\n",
       "      <td>25</td>\n",
       "      <td>13</td>\n",
       "      <td>328</td>\n",
       "      <td>728</td>\n",
       "      <td>1985</td>\n",
       "      <td>Tuesday</td>\n",
       "      <td>1503960366</td>\n",
       "      <td>1</td>\n",
       "      <td>327</td>\n",
       "      <td>346</td>\n",
       "    </tr>\n",
       "    <tr>\n",
       "      <th>1</th>\n",
       "      <td>1503960366</td>\n",
       "      <td>2016-04-12</td>\n",
       "      <td>13162</td>\n",
       "      <td>8.5</td>\n",
       "      <td>8.5</td>\n",
       "      <td>0.0</td>\n",
       "      <td>1.88</td>\n",
       "      <td>0.55</td>\n",
       "      <td>6.06</td>\n",
       "      <td>0.0</td>\n",
       "      <td>25</td>\n",
       "      <td>13</td>\n",
       "      <td>328</td>\n",
       "      <td>728</td>\n",
       "      <td>1985</td>\n",
       "      <td>Tuesday</td>\n",
       "      <td>1927972279</td>\n",
       "      <td>3</td>\n",
       "      <td>750</td>\n",
       "      <td>775</td>\n",
       "    </tr>\n",
       "    <tr>\n",
       "      <th>2</th>\n",
       "      <td>1503960366</td>\n",
       "      <td>2016-04-12</td>\n",
       "      <td>13162</td>\n",
       "      <td>8.5</td>\n",
       "      <td>8.5</td>\n",
       "      <td>0.0</td>\n",
       "      <td>1.88</td>\n",
       "      <td>0.55</td>\n",
       "      <td>6.06</td>\n",
       "      <td>0.0</td>\n",
       "      <td>25</td>\n",
       "      <td>13</td>\n",
       "      <td>328</td>\n",
       "      <td>728</td>\n",
       "      <td>1985</td>\n",
       "      <td>Tuesday</td>\n",
       "      <td>2026352035</td>\n",
       "      <td>1</td>\n",
       "      <td>503</td>\n",
       "      <td>546</td>\n",
       "    </tr>\n",
       "    <tr>\n",
       "      <th>3</th>\n",
       "      <td>1503960366</td>\n",
       "      <td>2016-04-12</td>\n",
       "      <td>13162</td>\n",
       "      <td>8.5</td>\n",
       "      <td>8.5</td>\n",
       "      <td>0.0</td>\n",
       "      <td>1.88</td>\n",
       "      <td>0.55</td>\n",
       "      <td>6.06</td>\n",
       "      <td>0.0</td>\n",
       "      <td>25</td>\n",
       "      <td>13</td>\n",
       "      <td>328</td>\n",
       "      <td>728</td>\n",
       "      <td>1985</td>\n",
       "      <td>Tuesday</td>\n",
       "      <td>3977333714</td>\n",
       "      <td>1</td>\n",
       "      <td>274</td>\n",
       "      <td>469</td>\n",
       "    </tr>\n",
       "    <tr>\n",
       "      <th>4</th>\n",
       "      <td>1503960366</td>\n",
       "      <td>2016-04-12</td>\n",
       "      <td>13162</td>\n",
       "      <td>8.5</td>\n",
       "      <td>8.5</td>\n",
       "      <td>0.0</td>\n",
       "      <td>1.88</td>\n",
       "      <td>0.55</td>\n",
       "      <td>6.06</td>\n",
       "      <td>0.0</td>\n",
       "      <td>25</td>\n",
       "      <td>13</td>\n",
       "      <td>328</td>\n",
       "      <td>728</td>\n",
       "      <td>1985</td>\n",
       "      <td>Tuesday</td>\n",
       "      <td>4020332650</td>\n",
       "      <td>1</td>\n",
       "      <td>501</td>\n",
       "      <td>541</td>\n",
       "    </tr>\n",
       "  </tbody>\n",
       "</table>\n",
       "</div>"
      ],
      "text/plain": [
       "   Id_Activity       Date  TotalSteps  TotalDistance  TrackerDistance  \\\n",
       "0   1503960366 2016-04-12       13162            8.5              8.5   \n",
       "1   1503960366 2016-04-12       13162            8.5              8.5   \n",
       "2   1503960366 2016-04-12       13162            8.5              8.5   \n",
       "3   1503960366 2016-04-12       13162            8.5              8.5   \n",
       "4   1503960366 2016-04-12       13162            8.5              8.5   \n",
       "\n",
       "   LoggedActivitiesDistance  VeryActiveDistance  ModeratelyActiveDistance  \\\n",
       "0                       0.0                1.88                      0.55   \n",
       "1                       0.0                1.88                      0.55   \n",
       "2                       0.0                1.88                      0.55   \n",
       "3                       0.0                1.88                      0.55   \n",
       "4                       0.0                1.88                      0.55   \n",
       "\n",
       "   LightActiveDistance  SedentaryActiveDistance  VeryActiveMinutes  \\\n",
       "0                 6.06                      0.0                 25   \n",
       "1                 6.06                      0.0                 25   \n",
       "2                 6.06                      0.0                 25   \n",
       "3                 6.06                      0.0                 25   \n",
       "4                 6.06                      0.0                 25   \n",
       "\n",
       "   FairlyActiveMinutes  LightlyActiveMinutes  SedentaryMinutes  Calories  \\\n",
       "0                   13                   328               728      1985   \n",
       "1                   13                   328               728      1985   \n",
       "2                   13                   328               728      1985   \n",
       "3                   13                   328               728      1985   \n",
       "4                   13                   328               728      1985   \n",
       "\n",
       "  DayofWeek    Id_Sleep  TotalSleepRecords  TotalMinutesAsleep  TotalTimeInBed  \n",
       "0   Tuesday  1503960366                  1                 327             346  \n",
       "1   Tuesday  1927972279                  3                 750             775  \n",
       "2   Tuesday  2026352035                  1                 503             546  \n",
       "3   Tuesday  3977333714                  1                 274             469  \n",
       "4   Tuesday  4020332650                  1                 501             541  "
      ]
     },
     "execution_count": 53,
     "metadata": {},
     "output_type": "execute_result"
    }
   ],
   "source": [
    "# Renaming certain columns for readability\n",
    "daily_activity_sleep_day_merged = daily_activity_sleep_day_merged.rename(columns={'Id_x' : 'Id_Activity'})\n",
    "daily_activity_sleep_day_merged = daily_activity_sleep_day_merged.rename(columns={'Id_y' : 'Id_Sleep'})\n",
    "daily_activity_sleep_day_merged.head()"
   ]
  },
  {
   "cell_type": "code",
   "execution_count": 54,
   "id": "6316ebc2",
   "metadata": {},
   "outputs": [
    {
     "data": {
      "text/html": [
       "<div>\n",
       "<style scoped>\n",
       "    .dataframe tbody tr th:only-of-type {\n",
       "        vertical-align: middle;\n",
       "    }\n",
       "\n",
       "    .dataframe tbody tr th {\n",
       "        vertical-align: top;\n",
       "    }\n",
       "\n",
       "    .dataframe thead th {\n",
       "        text-align: right;\n",
       "    }\n",
       "</style>\n",
       "<table border=\"1\" class=\"dataframe\">\n",
       "  <thead>\n",
       "    <tr style=\"text-align: right;\">\n",
       "      <th></th>\n",
       "      <th>Id</th>\n",
       "      <th>Time</th>\n",
       "      <th>StepTotal</th>\n",
       "      <th>DayofWeek</th>\n",
       "      <th>Calories</th>\n",
       "    </tr>\n",
       "  </thead>\n",
       "  <tbody>\n",
       "    <tr>\n",
       "      <th>0</th>\n",
       "      <td>1503960366</td>\n",
       "      <td>2016-04-12 00:00:00</td>\n",
       "      <td>373</td>\n",
       "      <td>Tuesday</td>\n",
       "      <td>81</td>\n",
       "    </tr>\n",
       "    <tr>\n",
       "      <th>1</th>\n",
       "      <td>1503960366</td>\n",
       "      <td>2016-04-12 01:00:00</td>\n",
       "      <td>160</td>\n",
       "      <td>Tuesday</td>\n",
       "      <td>61</td>\n",
       "    </tr>\n",
       "    <tr>\n",
       "      <th>2</th>\n",
       "      <td>1503960366</td>\n",
       "      <td>2016-04-12 02:00:00</td>\n",
       "      <td>151</td>\n",
       "      <td>Tuesday</td>\n",
       "      <td>59</td>\n",
       "    </tr>\n",
       "    <tr>\n",
       "      <th>3</th>\n",
       "      <td>1503960366</td>\n",
       "      <td>2016-04-12 03:00:00</td>\n",
       "      <td>0</td>\n",
       "      <td>Tuesday</td>\n",
       "      <td>47</td>\n",
       "    </tr>\n",
       "    <tr>\n",
       "      <th>4</th>\n",
       "      <td>1503960366</td>\n",
       "      <td>2016-04-12 04:00:00</td>\n",
       "      <td>0</td>\n",
       "      <td>Tuesday</td>\n",
       "      <td>48</td>\n",
       "    </tr>\n",
       "  </tbody>\n",
       "</table>\n",
       "</div>"
      ],
      "text/plain": [
       "           Id                Time  StepTotal DayofWeek  Calories\n",
       "0  1503960366 2016-04-12 00:00:00        373   Tuesday        81\n",
       "1  1503960366 2016-04-12 01:00:00        160   Tuesday        61\n",
       "2  1503960366 2016-04-12 02:00:00        151   Tuesday        59\n",
       "3  1503960366 2016-04-12 03:00:00          0   Tuesday        47\n",
       "4  1503960366 2016-04-12 04:00:00          0   Tuesday        48"
      ]
     },
     "execution_count": 54,
     "metadata": {},
     "output_type": "execute_result"
    }
   ],
   "source": [
    "# Merging hourly_steps and hourly_calories\n",
    "hourly_merged = pd.merge(hourly_steps, hourly_calories, on=['Time', 'Id'])\n",
    "hourly_merged.head()"
   ]
  },
  {
   "cell_type": "markdown",
   "id": "d1d8691e",
   "metadata": {},
   "source": [
    "<p>Lets us find out how many days were recoreded on this dataframe?</p>"
   ]
  },
  {
   "cell_type": "code",
   "execution_count": 55,
   "id": "dcb2de22",
   "metadata": {},
   "outputs": [
    {
     "data": {
      "text/plain": [
       "Timedelta('30 days 15:00:00')"
      ]
     },
     "execution_count": 55,
     "metadata": {},
     "output_type": "execute_result"
    }
   ],
   "source": [
    "hourly_merged['Time'].max() - hourly_merged['Time'].min()"
   ]
  },
  {
   "cell_type": "markdown",
   "id": "223ecae4",
   "metadata": {},
   "source": [
    "> **Note :** Looks like we've 30 days worth of total num of steps and burned calories."
   ]
  },
  {
   "cell_type": "markdown",
   "id": "adea903b",
   "metadata": {},
   "source": [
    "### Activity Data\n",
    "<p>Let us take a closer look on more specific information surrounding our users activity.</p>"
   ]
  },
  {
   "cell_type": "markdown",
   "id": "84e2c94f",
   "metadata": {},
   "source": [
    "#### Analyze the average of total steps and calories\n",
    "<p>How many steps do our users take daily? How many calories do our users burn on average?</p>"
   ]
  },
  {
   "cell_type": "code",
   "execution_count": 56,
   "id": "94276ae7",
   "metadata": {},
   "outputs": [
    {
     "data": {
      "text/html": [
       "<div>\n",
       "<style scoped>\n",
       "    .dataframe tbody tr th:only-of-type {\n",
       "        vertical-align: middle;\n",
       "    }\n",
       "\n",
       "    .dataframe tbody tr th {\n",
       "        vertical-align: top;\n",
       "    }\n",
       "\n",
       "    .dataframe thead th {\n",
       "        text-align: right;\n",
       "    }\n",
       "</style>\n",
       "<table border=\"1\" class=\"dataframe\">\n",
       "  <thead>\n",
       "    <tr style=\"text-align: right;\">\n",
       "      <th></th>\n",
       "      <th>TotalSteps</th>\n",
       "      <th>Calories</th>\n",
       "    </tr>\n",
       "  </thead>\n",
       "  <tbody>\n",
       "    <tr>\n",
       "      <th>mean</th>\n",
       "      <td>7637.910638</td>\n",
       "      <td>2303.609574</td>\n",
       "    </tr>\n",
       "    <tr>\n",
       "      <th>min</th>\n",
       "      <td>0.000000</td>\n",
       "      <td>0.000000</td>\n",
       "    </tr>\n",
       "    <tr>\n",
       "      <th>max</th>\n",
       "      <td>36019.000000</td>\n",
       "      <td>4900.000000</td>\n",
       "    </tr>\n",
       "  </tbody>\n",
       "</table>\n",
       "</div>"
      ],
      "text/plain": [
       "        TotalSteps     Calories\n",
       "mean   7637.910638  2303.609574\n",
       "min       0.000000     0.000000\n",
       "max   36019.000000  4900.000000"
      ]
     },
     "execution_count": 56,
     "metadata": {},
     "output_type": "execute_result"
    }
   ],
   "source": [
    "daily_activity.agg(\n",
    "                   {'TotalSteps' : ['mean', 'min', 'max'],\n",
    "                    'Calories' : ['mean', 'min', 'max'],\n",
    "                   })"
   ]
  },
  {
   "cell_type": "markdown",
   "id": "138a8334",
   "metadata": {},
   "source": [
    "> **Note :** The average total daily steps taken by the users is <b>7,638</b> steps. According to [BioMed Central](https://ijbnpa.biomedcentral.com/articles/10.1186/1479-5868-8-79), taking 10K steps a day is a reasonable target for healthy adults, helping reduce certain health conditions, such as high blood pressure and heart disease. <p>In order to compare daily steps to an activity level, the following categories can be considered:<li><b>Inactive :</b> Less than 5K steps/day</li><li><b>Average :</b> Between 7,500 and 9,999 steps/day</li><li><b>Very Active :</b> More than 12,500 steps/day</li></p><p>Given the information above, I conclude that users in our data fall into the <b>Average</b> category. With this in mind, it becomes much clear that the users should improve their amount of daily steps for optimal health and well-being.</p>"
   ]
  },
  {
   "cell_type": "markdown",
   "id": "38f03fba",
   "metadata": {},
   "source": [
    "#### Analyzing the average of total steps by the day of the week\n",
    "<p>Are the users consistent with the number of total steps taken throughout the week? Or are there significant changes as the days go by?</p>"
   ]
  },
  {
   "cell_type": "code",
   "execution_count": 57,
   "id": "00180bba",
   "metadata": {},
   "outputs": [
    {
     "data": {
      "text/html": [
       "<div>\n",
       "<style scoped>\n",
       "    .dataframe tbody tr th:only-of-type {\n",
       "        vertical-align: middle;\n",
       "    }\n",
       "\n",
       "    .dataframe tbody tr th {\n",
       "        vertical-align: top;\n",
       "    }\n",
       "\n",
       "    .dataframe thead th {\n",
       "        text-align: right;\n",
       "    }\n",
       "</style>\n",
       "<table border=\"1\" class=\"dataframe\">\n",
       "  <thead>\n",
       "    <tr style=\"text-align: right;\">\n",
       "      <th></th>\n",
       "      <th>TotalSteps</th>\n",
       "    </tr>\n",
       "    <tr>\n",
       "      <th>DayofWeek</th>\n",
       "      <th></th>\n",
       "    </tr>\n",
       "  </thead>\n",
       "  <tbody>\n",
       "    <tr>\n",
       "      <th>Monday</th>\n",
       "      <td>7755.040426</td>\n",
       "    </tr>\n",
       "    <tr>\n",
       "      <th>Tuesday</th>\n",
       "      <td>8115.021662</td>\n",
       "    </tr>\n",
       "    <tr>\n",
       "      <th>Wednesday</th>\n",
       "      <td>7593.504995</td>\n",
       "    </tr>\n",
       "    <tr>\n",
       "      <th>Thursday</th>\n",
       "      <td>7651.824517</td>\n",
       "    </tr>\n",
       "    <tr>\n",
       "      <th>Friday</th>\n",
       "      <td>7449.285319</td>\n",
       "    </tr>\n",
       "    <tr>\n",
       "      <th>Saturday</th>\n",
       "      <td>8159.764314</td>\n",
       "    </tr>\n",
       "    <tr>\n",
       "      <th>Sunday</th>\n",
       "      <td>6943.197226</td>\n",
       "    </tr>\n",
       "  </tbody>\n",
       "</table>\n",
       "</div>"
      ],
      "text/plain": [
       "            TotalSteps\n",
       "DayofWeek             \n",
       "Monday     7755.040426\n",
       "Tuesday    8115.021662\n",
       "Wednesday  7593.504995\n",
       "Thursday   7651.824517\n",
       "Friday     7449.285319\n",
       "Saturday   8159.764314\n",
       "Sunday     6943.197226"
      ]
     },
     "execution_count": 57,
     "metadata": {},
     "output_type": "execute_result"
    }
   ],
   "source": [
    "cats = ['Monday', 'Tuesday', 'Wednesday', 'Thursday', 'Friday', 'Saturday', 'Sunday']\n",
    "cat_type = CategoricalDtype(categories=cats, ordered=True)\n",
    "daily_activity_sleep_day_merged['DayofWeek'] = daily_activity_sleep_day_merged['DayofWeek'].astype(cat_type)\n",
    "df_day_of_week = daily_activity_sleep_day_merged.copy().groupby(daily_activity_sleep_day_merged['DayofWeek']).mean().reindex(cats)\n",
    "df_day_of_week.filter(['TotalSteps'])"
   ]
  },
  {
   "cell_type": "markdown",
   "id": "f65b5ec7",
   "metadata": {},
   "source": [
    "#### Analyzing the most active time of the day\n",
    "<p>What are the most active hours of hte users day on average? Are they during day OR night?</p>"
   ]
  },
  {
   "cell_type": "code",
   "execution_count": 58,
   "id": "304be02c",
   "metadata": {},
   "outputs": [
    {
     "data": {
      "text/plain": [
       "Time\n",
       "0      42.188437\n",
       "1      23.102894\n",
       "2      17.110397\n",
       "3       6.426581\n",
       "4      12.699571\n",
       "5      43.869099\n",
       "6     178.508056\n",
       "7     306.049409\n",
       "8     427.544576\n",
       "9     433.301826\n",
       "10    481.665231\n",
       "11    456.886731\n",
       "12    548.642082\n",
       "13    537.698154\n",
       "14    540.513572\n",
       "15    406.319126\n",
       "16    496.845645\n",
       "17    550.232892\n",
       "18    599.169978\n",
       "19    583.390728\n",
       "20    353.905077\n",
       "21    308.138122\n",
       "22    237.987832\n",
       "23    122.132890\n",
       "Name: StepTotal, dtype: float64"
      ]
     },
     "execution_count": 58,
     "metadata": {},
     "output_type": "execute_result"
    }
   ],
   "source": [
    "hourly_merged.groupby(hourly_merged['Time'].dt.hour)['StepTotal'].mean()"
   ]
  },
  {
   "cell_type": "markdown",
   "id": "1e399c47",
   "metadata": {},
   "source": [
    "#### Analyzing the time of the day users burn the most calories\n",
    "<p>When are the users burning the most calories? In the morning, afternoon OR the evening(night)?</p>"
   ]
  },
  {
   "cell_type": "code",
   "execution_count": 59,
   "id": "041df4fe",
   "metadata": {},
   "outputs": [
    {
     "data": {
      "text/plain": [
       "Time\n",
       "0      71.805139\n",
       "1      70.165059\n",
       "2      69.186495\n",
       "3      67.538049\n",
       "4      68.261803\n",
       "5      81.708155\n",
       "6      86.996778\n",
       "7      94.477981\n",
       "8     103.337272\n",
       "9     106.142857\n",
       "10    110.460710\n",
       "11    109.806904\n",
       "12    117.197397\n",
       "13    115.309446\n",
       "14    115.732899\n",
       "15    106.637158\n",
       "16    113.327453\n",
       "17    122.752759\n",
       "18    123.492274\n",
       "19    121.484547\n",
       "20    102.357616\n",
       "21     96.056354\n",
       "22     88.265487\n",
       "23     77.593577\n",
       "Name: Calories, dtype: float64"
      ]
     },
     "execution_count": 59,
     "metadata": {},
     "output_type": "execute_result"
    }
   ],
   "source": [
    "hourly_merged.groupby(hourly_merged['Time'].dt.hour)['Calories'].mean()"
   ]
  },
  {
   "cell_type": "markdown",
   "id": "d8fa65ea",
   "metadata": {},
   "source": [
    "#### Analyzing different categories of activity\n",
    "<p>How active are the users throughout the day? Do they spend a significant amount of their day being very active, OR perhaps, not active enough?</p>"
   ]
  },
  {
   "cell_type": "code",
   "execution_count": 60,
   "id": "008c8490",
   "metadata": {},
   "outputs": [
    {
     "data": {
      "text/html": [
       "<div>\n",
       "<style scoped>\n",
       "    .dataframe tbody tr th:only-of-type {\n",
       "        vertical-align: middle;\n",
       "    }\n",
       "\n",
       "    .dataframe tbody tr th {\n",
       "        vertical-align: top;\n",
       "    }\n",
       "\n",
       "    .dataframe thead th {\n",
       "        text-align: right;\n",
       "    }\n",
       "</style>\n",
       "<table border=\"1\" class=\"dataframe\">\n",
       "  <thead>\n",
       "    <tr style=\"text-align: right;\">\n",
       "      <th></th>\n",
       "      <th>VeryActiveMinutes</th>\n",
       "      <th>FairlyActiveMinutes</th>\n",
       "      <th>LightlyActiveMinutes</th>\n",
       "      <th>SedentaryMinutes</th>\n",
       "    </tr>\n",
       "  </thead>\n",
       "  <tbody>\n",
       "    <tr>\n",
       "      <th>mean</th>\n",
       "      <td>21.164894</td>\n",
       "      <td>13.564894</td>\n",
       "      <td>192.812766</td>\n",
       "      <td>991.210638</td>\n",
       "    </tr>\n",
       "    <tr>\n",
       "      <th>min</th>\n",
       "      <td>0.000000</td>\n",
       "      <td>0.000000</td>\n",
       "      <td>0.000000</td>\n",
       "      <td>0.000000</td>\n",
       "    </tr>\n",
       "    <tr>\n",
       "      <th>max</th>\n",
       "      <td>210.000000</td>\n",
       "      <td>143.000000</td>\n",
       "      <td>518.000000</td>\n",
       "      <td>1440.000000</td>\n",
       "    </tr>\n",
       "  </tbody>\n",
       "</table>\n",
       "</div>"
      ],
      "text/plain": [
       "      VeryActiveMinutes  FairlyActiveMinutes  LightlyActiveMinutes  \\\n",
       "mean          21.164894            13.564894            192.812766   \n",
       "min            0.000000             0.000000              0.000000   \n",
       "max          210.000000           143.000000            518.000000   \n",
       "\n",
       "      SedentaryMinutes  \n",
       "mean        991.210638  \n",
       "min           0.000000  \n",
       "max        1440.000000  "
      ]
     },
     "execution_count": 60,
     "metadata": {},
     "output_type": "execute_result"
    }
   ],
   "source": [
    "daily_activity.agg(\n",
    "    {\n",
    "        'VeryActiveMinutes' : ['mean', 'min', 'max'],\n",
    "        'FairlyActiveMinutes' : ['mean', 'min', 'max'],\n",
    "        'LightlyActiveMinutes' : ['mean', 'min', 'max'],\n",
    "        'SedentaryMinutes' : ['mean', 'min', 'max']\n",
    "    })"
   ]
  },
  {
   "cell_type": "markdown",
   "id": "5b0a6501",
   "metadata": {},
   "source": [
    "> **Note :** If we take a close look into the average amount of time spent on the different categories of active minutes, we can see that the amount of <b>time the users spend being sedentary is quite significant</b>. If we do the mental math, we learn that <b>the users are Sedentary for on average of 16.5 hours of their day, they spend about 3.2 hours of their day on being lightly ative and 23 minutes being fairly active, and 35 minutes being ver active.</b>"
   ]
  },
  {
   "cell_type": "markdown",
   "id": "4b1c3785",
   "metadata": {},
   "source": [
    "#### Analyzing average amount of time spend in each activity category\n",
    "<p>Let us take a close look at how our users are spending their day on average.</p>"
   ]
  },
  {
   "cell_type": "code",
   "execution_count": 61,
   "id": "4976d13e",
   "metadata": {},
   "outputs": [
    {
     "data": {
      "text/plain": [
       "VeryActiveMinutes        21.265822\n",
       "FairlyActiveMinutes      13.660436\n",
       "LightlyActiveMinutes    194.197545\n",
       "SedentaryMinutes        992.791446\n",
       "dtype: float64"
      ]
     },
     "execution_count": 61,
     "metadata": {},
     "output_type": "execute_result"
    }
   ],
   "source": [
    "minutes_categories = daily_activity_sleep_day_merged[['VeryActiveMinutes', 'FairlyActiveMinutes', 'LightlyActiveMinutes', 'SedentaryMinutes']].mean()\n",
    "minutes_categories"
   ]
  },
  {
   "cell_type": "markdown",
   "id": "40c51c23",
   "metadata": {},
   "source": [
    "### Sleep Data\n",
    "<p>Let us analyze users sleeping habits.</p>"
   ]
  },
  {
   "cell_type": "markdown",
   "id": "aac820c3",
   "metadata": {},
   "source": [
    "#### Analyzing average total minutes asleep and total time in bed"
   ]
  },
  {
   "cell_type": "code",
   "execution_count": 62,
   "id": "70821d7b",
   "metadata": {},
   "outputs": [
    {
     "data": {
      "text/html": [
       "<div>\n",
       "<style scoped>\n",
       "    .dataframe tbody tr th:only-of-type {\n",
       "        vertical-align: middle;\n",
       "    }\n",
       "\n",
       "    .dataframe tbody tr th {\n",
       "        vertical-align: top;\n",
       "    }\n",
       "\n",
       "    .dataframe thead th {\n",
       "        text-align: right;\n",
       "    }\n",
       "</style>\n",
       "<table border=\"1\" class=\"dataframe\">\n",
       "  <thead>\n",
       "    <tr style=\"text-align: right;\">\n",
       "      <th></th>\n",
       "      <th>TotalMinutesAsleep</th>\n",
       "      <th>TotalTimeInBed</th>\n",
       "    </tr>\n",
       "  </thead>\n",
       "  <tbody>\n",
       "    <tr>\n",
       "      <th>mean</th>\n",
       "      <td>419.467312</td>\n",
       "      <td>458.639225</td>\n",
       "    </tr>\n",
       "    <tr>\n",
       "      <th>min</th>\n",
       "      <td>58.000000</td>\n",
       "      <td>61.000000</td>\n",
       "    </tr>\n",
       "    <tr>\n",
       "      <th>max</th>\n",
       "      <td>796.000000</td>\n",
       "      <td>961.000000</td>\n",
       "    </tr>\n",
       "  </tbody>\n",
       "</table>\n",
       "</div>"
      ],
      "text/plain": [
       "      TotalMinutesAsleep  TotalTimeInBed\n",
       "mean          419.467312      458.639225\n",
       "min            58.000000       61.000000\n",
       "max           796.000000      961.000000"
      ]
     },
     "execution_count": 62,
     "metadata": {},
     "output_type": "execute_result"
    }
   ],
   "source": [
    "sleep_day.agg(\n",
    "    {\n",
    "        'TotalMinutesAsleep' : ['mean', 'min', 'max'],\n",
    "        'TotalTimeInBed' : ['mean', 'min', 'max']\n",
    "    })"
   ]
  },
  {
   "cell_type": "markdown",
   "id": "736a9ecf",
   "metadata": {},
   "source": [
    "> **Note :** According to [CDC](https://www.cdc.gov/sleep/about_sleep/how_much_sleep.html), an adult between 18-60 years old should get 7 or more hours of sleep per night. By analyzing the <mark>TotalMinutesAsleep</mark> column, <b>on average our users sleeping time is 419.5 minutes (or 7 hours)</b>, hence, <b>our users have good sleeping habits.</b>"
   ]
  },
  {
   "cell_type": "markdown",
   "id": "882c8ec7",
   "metadata": {},
   "source": [
    "#### Analyzing average minutes asleep by day of the week\n",
    "<p>Group data to fiind out how much sleep, on average, the users are getting throughout the week.</p>"
   ]
  },
  {
   "cell_type": "code",
   "execution_count": 63,
   "id": "171536ba",
   "metadata": {},
   "outputs": [
    {
     "data": {
      "text/html": [
       "<div>\n",
       "<style scoped>\n",
       "    .dataframe tbody tr th:only-of-type {\n",
       "        vertical-align: middle;\n",
       "    }\n",
       "\n",
       "    .dataframe tbody tr th {\n",
       "        vertical-align: top;\n",
       "    }\n",
       "\n",
       "    .dataframe thead th {\n",
       "        text-align: right;\n",
       "    }\n",
       "</style>\n",
       "<table border=\"1\" class=\"dataframe\">\n",
       "  <thead>\n",
       "    <tr style=\"text-align: right;\">\n",
       "      <th></th>\n",
       "      <th>TotalMinutesAsleep</th>\n",
       "    </tr>\n",
       "    <tr>\n",
       "      <th>DayofWeek</th>\n",
       "      <th></th>\n",
       "    </tr>\n",
       "  </thead>\n",
       "  <tbody>\n",
       "    <tr>\n",
       "      <th>Monday</th>\n",
       "      <td>418.245390</td>\n",
       "    </tr>\n",
       "    <tr>\n",
       "      <th>Tuesday</th>\n",
       "      <td>404.815617</td>\n",
       "    </tr>\n",
       "    <tr>\n",
       "      <th>Wednesday</th>\n",
       "      <td>434.566434</td>\n",
       "    </tr>\n",
       "    <tr>\n",
       "      <th>Thursday</th>\n",
       "      <td>401.504069</td>\n",
       "    </tr>\n",
       "    <tr>\n",
       "      <th>Friday</th>\n",
       "      <td>405.504155</td>\n",
       "    </tr>\n",
       "    <tr>\n",
       "      <th>Saturday</th>\n",
       "      <td>420.766537</td>\n",
       "    </tr>\n",
       "    <tr>\n",
       "      <th>Sunday</th>\n",
       "      <td>453.702051</td>\n",
       "    </tr>\n",
       "  </tbody>\n",
       "</table>\n",
       "</div>"
      ],
      "text/plain": [
       "           TotalMinutesAsleep\n",
       "DayofWeek                    \n",
       "Monday             418.245390\n",
       "Tuesday            404.815617\n",
       "Wednesday          434.566434\n",
       "Thursday           401.504069\n",
       "Friday             405.504155\n",
       "Saturday           420.766537\n",
       "Sunday             453.702051"
      ]
     },
     "execution_count": 63,
     "metadata": {},
     "output_type": "execute_result"
    }
   ],
   "source": [
    "cats = ['Monday', 'Tuesday', 'Wednesday', 'Thursday', 'Friday', 'Saturday', 'Sunday']\n",
    "cat_type = CategoricalDtype(categories=cats, ordered=True)\n",
    "daily_activity_sleep_day_merged['DayofWeek'] = daily_activity_sleep_day_merged['DayofWeek'].astype(cat_type)\n",
    "df_day_of_week = daily_activity_sleep_day_merged.copy().groupby(daily_activity_sleep_day_merged['DayofWeek']).mean().reindex(cats)\n",
    "df_day_of_week.filter(['TotalMinutesAsleep'])"
   ]
  },
  {
   "cell_type": "markdown",
   "id": "49b0e4e4",
   "metadata": {},
   "source": [
    "#### Analyzing average time spend being awake in bed by day of the week\n",
    "<p>Now, let us look at how much time the users spend in bed without being asleep throughout the week.</p>"
   ]
  },
  {
   "cell_type": "code",
   "execution_count": 64,
   "id": "c7575498",
   "metadata": {},
   "outputs": [
    {
     "data": {
      "text/html": [
       "<div>\n",
       "<style scoped>\n",
       "    .dataframe tbody tr th:only-of-type {\n",
       "        vertical-align: middle;\n",
       "    }\n",
       "\n",
       "    .dataframe tbody tr th {\n",
       "        vertical-align: top;\n",
       "    }\n",
       "\n",
       "    .dataframe thead th {\n",
       "        text-align: right;\n",
       "    }\n",
       "</style>\n",
       "<table border=\"1\" class=\"dataframe\">\n",
       "  <thead>\n",
       "    <tr style=\"text-align: right;\">\n",
       "      <th></th>\n",
       "      <th>TotalMinutesAsleep</th>\n",
       "      <th>TotalTimeInBed</th>\n",
       "      <th>TimeNotBeingAsleepInBed</th>\n",
       "    </tr>\n",
       "    <tr>\n",
       "      <th>DayofWeek</th>\n",
       "      <th></th>\n",
       "      <th></th>\n",
       "      <th></th>\n",
       "    </tr>\n",
       "  </thead>\n",
       "  <tbody>\n",
       "    <tr>\n",
       "      <th>Monday</th>\n",
       "      <td>418.245390</td>\n",
       "      <td>455.711348</td>\n",
       "      <td>37.465957</td>\n",
       "    </tr>\n",
       "    <tr>\n",
       "      <th>Tuesday</th>\n",
       "      <td>404.815617</td>\n",
       "      <td>443.471033</td>\n",
       "      <td>38.655416</td>\n",
       "    </tr>\n",
       "    <tr>\n",
       "      <th>Wednesday</th>\n",
       "      <td>434.566434</td>\n",
       "      <td>470.421578</td>\n",
       "      <td>35.855145</td>\n",
       "    </tr>\n",
       "    <tr>\n",
       "      <th>Thursday</th>\n",
       "      <td>401.504069</td>\n",
       "      <td>435.150560</td>\n",
       "      <td>33.646490</td>\n",
       "    </tr>\n",
       "    <tr>\n",
       "      <th>Friday</th>\n",
       "      <td>405.504155</td>\n",
       "      <td>445.150693</td>\n",
       "      <td>39.646537</td>\n",
       "    </tr>\n",
       "    <tr>\n",
       "      <th>Saturday</th>\n",
       "      <td>420.766537</td>\n",
       "      <td>461.246804</td>\n",
       "      <td>40.480267</td>\n",
       "    </tr>\n",
       "    <tr>\n",
       "      <th>Sunday</th>\n",
       "      <td>453.702051</td>\n",
       "      <td>504.556695</td>\n",
       "      <td>50.854644</td>\n",
       "    </tr>\n",
       "  </tbody>\n",
       "</table>\n",
       "</div>"
      ],
      "text/plain": [
       "           TotalMinutesAsleep  TotalTimeInBed  TimeNotBeingAsleepInBed\n",
       "DayofWeek                                                             \n",
       "Monday             418.245390      455.711348                37.465957\n",
       "Tuesday            404.815617      443.471033                38.655416\n",
       "Wednesday          434.566434      470.421578                35.855145\n",
       "Thursday           401.504069      435.150560                33.646490\n",
       "Friday             405.504155      445.150693                39.646537\n",
       "Saturday           420.766537      461.246804                40.480267\n",
       "Sunday             453.702051      504.556695                50.854644"
      ]
     },
     "execution_count": 64,
     "metadata": {},
     "output_type": "execute_result"
    }
   ],
   "source": [
    "df_day_of_week.filter(['TotalMinutesAsleep', 'TotalTimeInBed'])\n",
    "df_day_of_week[['TotalMinutesAsleep', 'TotalTimeInBed']]\n",
    "df_day_of_week['TimeNotBeingAsleepInBed'] = df_day_of_week['TotalTimeInBed'] - df_day_of_week['TotalMinutesAsleep']\n",
    "time_bed = df_day_of_week[['TotalMinutesAsleep', 'TotalTimeInBed', 'TimeNotBeingAsleepInBed']]\n",
    "time_bed"
   ]
  },
  {
   "cell_type": "code",
   "execution_count": 65,
   "id": "235538f0",
   "metadata": {},
   "outputs": [
    {
     "data": {
      "text/plain": [
       "39.514922373626526"
      ]
     },
     "execution_count": 65,
     "metadata": {},
     "output_type": "execute_result"
    }
   ],
   "source": [
    "# Average time spend being not asleep in bed\n",
    "time_bed['TimeNotBeingAsleepInBed'].mean()"
   ]
  },
  {
   "cell_type": "markdown",
   "id": "dcd956c2",
   "metadata": {},
   "source": [
    "> **Note :** On average, users of our data spend 39.5 minutes being not asleep in bed."
   ]
  },
  {
   "cell_type": "markdown",
   "id": "e1c96f75",
   "metadata": {},
   "source": [
    "# 5. SHARE\n",
    "<p>Visualize key trends observed during exploratory analysis.</p>"
   ]
  },
  {
   "cell_type": "markdown",
   "id": "a605423f",
   "metadata": {},
   "source": [
    "#### Visualizing total steps and calories\n",
    "<p>Let us look at the relationship between the total number of steps and calories</p>"
   ]
  },
  {
   "cell_type": "code",
   "execution_count": 88,
   "id": "72490c03",
   "metadata": {},
   "outputs": [
    {
     "data": {
      "image/png": "[encoded data removed]",
      "text/plain": [
       "<Figure size 864x432 with 1 Axes>"
      ]
     },
     "metadata": {
      "needs_background": "light"
     },
     "output_type": "display_data"
    }
   ],
   "source": [
    "daily_activity_sleep_day_merged.plot.scatter(x='TotalSteps', y='Calories', \n",
    "                                             alpha=0.5, figsize=(12,6))\n",
    "plt.title('Total Steps v/s Calories')\n",
    "plt.grid(b=True)\n",
    "plt.savefig('Images/Total_Steps_VS_Calories_Burned.png', facecolor='white')\n",
    "plt.show()"
   ]
  },
  {
   "cell_type": "markdown",
   "id": "17081bb3",
   "metadata": {},
   "source": [
    "> **Note :** As we can see on the scatter plot above, there is <b>positive relationship</b> between the two variables, which indicates that <b>the greater the number of steps taken, the more calories the user burns</b>. As discovered earlier, keeping active is crucial for maintaining good health, and the number of steps the individual takes daily has a significant impact on that."
   ]
  },
  {
   "cell_type": "markdown",
   "id": "6e9b60d0",
   "metadata": {},
   "source": [
    "#### Visualizing the average total steps by day of the week"
   ]
  },
  {
   "cell_type": "code",
   "execution_count": 89,
   "id": "6109cade",
   "metadata": {},
   "outputs": [
    {
     "data": {
      "image/png": "[encoded data removed]",
      "text/plain": [
       "<Figure size 864x432 with 1 Axes>"
      ]
     },
     "metadata": {
      "needs_background": "light"
     },
     "output_type": "display_data"
    }
   ],
   "source": [
    "df_day_of_week['TotalSteps'].plot.bar(xlabel='Day Of The Week', ylabel=\"Average Of Total Steps\", \n",
    "                                      title=\"Average Of Total Steps By Day Of The Week\",\n",
    "                                      legend=True, rot=0, figsize=(12,6))\n",
    "plt.grid(b=False)\n",
    "plt.savefig('Images/Avg_Total_Steps_Day_Of_Week.png', facecolor='white')\n",
    "plt.show()"
   ]
  },
  {
   "cell_type": "markdown",
   "id": "2669ee16",
   "metadata": {},
   "source": [
    "> **Note :** The above bar chart shows us the average total steps taken by the users throughout the week. The most <b>active day in terms of steps take is Saturday, followed by Tuesday</b>. The <b>least active day is Sunday</b> - most likely a rest day for the users. It also gives us the confirmation that the users seem to be consistent with their total steps scores."
   ]
  },
  {
   "cell_type": "markdown",
   "id": "2ec6cd96",
   "metadata": {},
   "source": [
    "#### Visualizing the most active time of the day"
   ]
  },
  {
   "cell_type": "code",
   "execution_count": 90,
   "id": "3431c449",
   "metadata": {},
   "outputs": [
    {
     "data": {
      "image/png": "[encoded data removed]",
      "text/plain": [
       "<Figure size 864x432 with 1 Axes>"
      ]
     },
     "metadata": {
      "needs_background": "light"
     },
     "output_type": "display_data"
    }
   ],
   "source": [
    "fig, axs = plt.subplots(figsize=(12, 6))\n",
    "hourly_merged.groupby(hourly_merged['Time'].dt.hour)['StepTotal'].mean().plot(kind='bar', rot=0, ax=axs, \n",
    "                                                                              title='Most Active Time Of The Day',\n",
    "                                                                              legend=True)\n",
    "plt.xlabel(\"Hour Of The day\")\n",
    "plt.ylabel(\"Total Steps\")\n",
    "plt.grid(b=False)\n",
    "plt.savefig('Images/Most_Active_Time_Of_Day.png', facecolor='white')\n",
    "plt.show()"
   ]
  },
  {
   "cell_type": "markdown",
   "id": "8f0a434d",
   "metadata": {},
   "source": [
    "> **Note :** The above bar chart shows us that the users tend to be more active between 6 and 8 am. The level of activity stays doesn't change dramatically throughout the day, but the <b>peak hours seem to occur between 5 and 7 pm</b>. Our users are likely choosing to work out after work/school/college hours. Although take a note that their <b>level of activity starts decreasing significantly at 8 pm and keeps going down as the hours progress</b>, likely users seem to go to bed at a reasonable time, as lower levels of activity are recorded at late hours of the night."
   ]
  },
  {
   "cell_type": "markdown",
   "id": "96dbbb03",
   "metadata": {},
   "source": [
    "#### Visualizing the time of the day users burn the most calories\n",
    "<p>Earlier we observed positive correlation between the total amount of steps walked and burned calories. Let us now see if the burned calories are fluctuating as much as the activity levels.</p>"
   ]
  },
  {
   "cell_type": "code",
   "execution_count": 91,
   "id": "2fbfb78f",
   "metadata": {},
   "outputs": [
    {
     "data": {
      "image/png": "[encoded data removed]",
      "text/plain": [
       "<Figure size 864x432 with 1 Axes>"
      ]
     },
     "metadata": {
      "needs_background": "light"
     },
     "output_type": "display_data"
    }
   ],
   "source": [
    "fig, axs = plt.subplots(figsize=(12, 6))\n",
    "hourly_merged.groupby(hourly_merged['Time'].dt.hour)['Calories'].mean().plot(kind='bar', rot=0, ax=axs, \n",
    "                                                                             title='Calories By Time Of The Day',\n",
    "                                                                             legend=True)\n",
    "plt.xlabel(\"Hour of the day\")\n",
    "plt.ylabel(\"Calories\")\n",
    "plt.grid(b=False)\n",
    "plt.savefig('Images/Calories_By_The_Time_Of_The_Day.png', facecolor='white')\n",
    "plt.show()"
   ]
  },
  {
   "cell_type": "markdown",
   "id": "5894f2db",
   "metadata": {},
   "source": [
    "> **Note :** According to [SleepFoundation](https://www.sleepfoundation.org/how-sleep-works/how-your-body-uses-calories-while-you-sleep#:~:text=As%20a%20very%20approximate%20number,metabolic%20rate2%20(BMR)), we burn around 50 calories an hour while we sleep and we're abe to observe that in the bar chart above. Notice that as the users wake up and start moving, that is when <b>the number of burned calories increases, around the same time that the users are most active during the day</b>."
   ]
  },
  {
   "cell_type": "markdown",
   "id": "940eacb7",
   "metadata": {},
   "source": [
    "#### Visualizing the average minutes spend in each activity category"
   ]
  },
  {
   "cell_type": "code",
   "execution_count": 92,
   "id": "1d97e527",
   "metadata": {},
   "outputs": [
    {
     "data": {
      "image/png": "[encoded data removed]",
      "text/plain": [
       "<Figure size 1152x576 with 1 Axes>"
      ]
     },
     "metadata": {},
     "output_type": "display_data"
    }
   ],
   "source": [
    "minutes_categories = daily_activity_sleep_day_merged[['VeryActiveMinutes', 'FairlyActiveMinutes', 'LightlyActiveMinutes', 'SedentaryMinutes']].mean()\n",
    "minutes_categories.plot.pie(ylabel='Category', title='Average Of Minutes Spent In Each Activity Category',\n",
    "                            autopct='%1.0f%%', fontsize='14', startangle=0, legend=True, figsize=(16,8))\n",
    "plt.legend(loc=\"upper right\")\n",
    "plt.savefig('Images/Avg_Mins_Activity.png', facecolor='white')\n",
    "plt.show()"
   ]
  },
  {
   "cell_type": "markdown",
   "id": "68d9bddd",
   "metadata": {},
   "source": [
    "> **Note :** The [Department of Health and Human Services](https://www.mayoclinic.org/healthy-lifestyle/fitness/expert-answers/exercise/faq-20057916#:~:text=As%20a%20general%20goal%2C%20aim,your%20risk%20of%20metabolic%20problems.) recommends atleast 30 minutes of moderate physical activity. Reducing sitting time is important to avoid one's risk of developing metabolic problems. Even though our users are being very active more than 30 minutes every day, they're still spending an enormous amount of time being sedentary, which could result in future health issues."
   ]
  },
  {
   "cell_type": "markdown",
   "id": "a7dfce77",
   "metadata": {},
   "source": [
    "#### Visualizing total minutes asleep v/s total time being awake or not asleep in bed"
   ]
  },
  {
   "cell_type": "code",
   "execution_count": 93,
   "id": "c00a85c5",
   "metadata": {},
   "outputs": [
    {
     "data": {
      "image/png": "[encoded data removed]",
      "text/plain": [
       "<Figure size 864x432 with 1 Axes>"
      ]
     },
     "metadata": {
      "needs_background": "light"
     },
     "output_type": "display_data"
    }
   ],
   "source": [
    "daily_activity_sleep_day_merged.plot.scatter(x='TotalMinutesAsleep', y='TotalTimeInBed', \n",
    "                                             alpha=0.5, figsize=(12,6))\n",
    "plt.title('Total Minutes Asleep v/s Total Time Not Asleep in Bed')\n",
    "plt.savefig('Images/Total_Mins_Asleep_VS_Awake_In_Bed.png', facecolor='white')\n",
    "plt.show()"
   ]
  },
  {
   "cell_type": "markdown",
   "id": "bec62514",
   "metadata": {},
   "source": [
    "> **Note :** The above scatter plot indicates a strong positive linear association between total number of minutes asleep and the total number of minutes spend being awake in bed which means that most users are usually in bed only when they're sleeping, and not much longer before or after that. However, at times, they do spend good chunk of their time in bed without sleeping, which could be related to the weekends when many people choose to sleep or relax."
   ]
  },
  {
   "cell_type": "markdown",
   "id": "68329c2c",
   "metadata": {},
   "source": [
    "#### Visualizing the average of minutes asleep by the day of the week "
   ]
  },
  {
   "cell_type": "code",
   "execution_count": 94,
   "id": "9e74d43d",
   "metadata": {},
   "outputs": [
    {
     "data": {
      "image/png": "[encoded data removed]",
      "text/plain": [
       "<Figure size 864x432 with 1 Axes>"
      ]
     },
     "metadata": {
      "needs_background": "light"
     },
     "output_type": "display_data"
    }
   ],
   "source": [
    "df_day_of_week['TotalMinutesAsleep'].plot.bar(xlabel='Day Of The Week', ylabel='Average Of Minutes Asleep',\n",
    "                                              legend=True, rot=0, figsize=(12,6),\n",
    "                                              title=\"Average Minutes Asleep By The Day Of Week\")\n",
    "plt.grid(b=False)\n",
    "plt.savefig('Images/Avg_Mins_Asleep_Day_Of_Week.png', facecolor='white')\n",
    "plt.show()"
   ]
  },
  {
   "cell_type": "markdown",
   "id": "1bab1e7e",
   "metadata": {},
   "source": [
    "> **Note :** In the above bar chart, we can see that the average total minutes asleep goes above 400 minutes(almost <b>419.8 minutes</b>) to be exact with <b>Sunday(7.6 hours)</b> and <b>Wednesday(7.2 hours)</b> being the days where the users seem to have slept the most. It is clear from this visualization that there are no significant changes in sleeping time throughout the week. This information shows us that the users have a consistent sleeping schedule. <b>Sunday records the highest number of the Total Minutes Asleep on average</b> If we go back to the <mark>Average of Total Steps By The Day Of The Week</mark> bar graph, notice that Sunday also records the lowest number of the total steps average in the week, emphasizing that <b>Sunday is likely the users choice of a rest day.</b>"
   ]
  },
  {
   "cell_type": "markdown",
   "id": "f5d8f740",
   "metadata": {},
   "source": [
    "#### Visualizing awake time in bed by the day of the week"
   ]
  },
  {
   "cell_type": "code",
   "execution_count": 95,
   "id": "199f8939",
   "metadata": {},
   "outputs": [
    {
     "data": {
      "image/png": "[encoded data removed]",
      "text/plain": [
       "<Figure size 864x432 with 1 Axes>"
      ]
     },
     "metadata": {
      "needs_background": "light"
     },
     "output_type": "display_data"
    }
   ],
   "source": [
    "time_bed.plot.bar(xlabel=\"Day Of The Week\", ylabel=\"Average Of Minutes\", \n",
    "                  rot=0, figsize=(12,6),\n",
    "                  title=\"Average Minutes Awake In Bed Not Sleeping\")\n",
    "plt.legend(loc=\"upper right\")\n",
    "plt.grid(b=False)\n",
    "plt.savefig('Images/Avg_Awake_Time_In_Bed_Day_Of_Week.png', facecolor='white')\n",
    "plt.show()"
   ]
  },
  {
   "cell_type": "markdown",
   "id": "85da188c",
   "metadata": {},
   "source": [
    "> **Note :** As we can see from the above bar chart, the users are very consistent with their time in bed throughout the days of the week, and the same goes for the time they're awake in bed. <b>From their total time in bed, they spend on average 39.5 minutes awake</b>. The longest recorded times occurred on the weekend, which is perfectly understandable."
   ]
  },
  {
   "cell_type": "markdown",
   "id": "abeb4db5",
   "metadata": {},
   "source": [
    "# 6. ACT"
   ]
  },
  {
   "cell_type": "markdown",
   "id": "6fad7d4f",
   "metadata": {},
   "source": [
    "### Key Findings \n",
    "<p><li>The average users take 7,638 steps and burns 2,304 calories per day.</li></p>\n",
    "<p><li>There is positive relationship between the total number of steps and the total number of burned calories.</li></p>\n",
    "<p><li>The users seem to be consistent with their total steps scores throughout the week. The most active day is Saturday, and the least active day is Sunday.</li></p>\n",
    "<p><li>The users start their day between 6 a.m. and 8 a.m. They're most active between 5 p.m. and 7 p.m. and become least active at 8 p.m. and after.</li></p>\n",
    "<p><li>The highest number of burned calories occur between 5 p.m. and 7 p.m., when the users are most active.</li></p>\n",
    "<p><li>Although the average user is very active for over 30 minutes every day, they still spend 81% of their time being sedentary.</li></p>\n",
    "<p><li>There is strong, positive relationship between the total number of minutes asleep and the total time spent in bed, with users only spending an average of 39.5 minutes of their total time in bed being awake.</li></p>\n",
    "<p><li>The users have a consistent sleeping schedule, with an average sleeping time of 419.8 minutes(or 7 hours) per night with Sunday(7.6 hours) being the day where the users seem to have slept the most.</li></p>\n",
    "<p><li>Recording the lowest number of steps and the highest number of minutes asleep, Sunday is likely a rest dat chosen by the users.</li></p>"
   ]
  },
  {
   "cell_type": "markdown",
   "id": "86ebd9e4",
   "metadata": {},
   "source": [
    "### Recommendations\n",
    "<p>Recommendations based on key trends observed in our data to help guide Bellabeat's marketing strategy:</p>\n",
    "<p><li><b>Personalized notifications to promote activity :</b>The users on average take total steps of 7,638 well below the mark of 10K daily steps recommended by the CDC. In addition, above analysis reveals that users spend about 81% os hteir day being sedentary. Bellabeat could incorporate personalized notifications on its app to motivate users to keep moving throughout the day, which could include real-time information regarding total number of steps taken so far or even number of steps left in order to reach the daily steps goal.</li></p>\n",
    "<p><li><b>Dynamic Calories Counter :</b>The app could also provide the user with an easy to use interface that displays the number of calories that are being burned throughout the day to improve motivation, the users could also have the option to set customized daily calories goal and be able to follow their progress throughout the day.</li></p>\n",
    "<p><li><b>Detailed Sleep Log : </b>The average user has a consistent sleeping schedule, but those who may want to improve the quality of their sleep or simply keep a track of it could benefit from a sleeping log. The app could also offer this feature and record sleep quality, the number of times one wakes up during the night, the total amount of time being awake in the bed, anxiety, and/or stress levels.</li></p>\n",
    "<p><li><b>Weekly or Monthly Achievement Reports : </b>To keep users motivated for long term, the Bellabeat app could provide customized weekly and monhtly reports regarding the total num of steps, burned calories, sleeping habits, weight loss, and total time spent on different levels of activity. The app could send customized congragulatory message/notification to those who keep up with good habits as well as motivational tips for improvement depending on the users overall performance.</li></p>\n",
    "<p><li><b>Meditation, Relaxation and Workout Video Services : </b>The app could also offer meditation and relaxation tips services either for free or premium basis to those who are looking to improve their sleep quality and/or reduce stress and anxiety levels by tracking the time of the day when their activity decreases, their rest days, or perhaps around bedtime, the app could send notifications to the persons phone or smart device and suggest different relaxation or meditation techniques. And for those looking for motivation and mostly sedentary the app could suggest some exercises in form of notifications with pictures or videos to be active and improve their health by tracking their total steps taken, calories burned and the activity level.</li></p>\n",
    "<p><li><b>Discounts on other Bellabeat wellness products and services : </b>Another way to keep customers motivated is to offer special discounts on different Bellabeat products, as well as their premium memberships. This way, the users could become more inclined to get more active and purchase more products from the company.</li></p>"
   ]
  }
 ],
 "metadata": {
  "kernelspec": {
   "display_name": "Python 3 (ipykernel)",
   "language": "python",
   "name": "python3"
  },
  "language_info": {
   "codemirror_mode": {
    "name": "ipython",
    "version": 3
   },
   "file_extension": ".py",
   "mimetype": "text/x-python",
   "name": "python",
   "nbconvert_exporter": "python",
   "pygments_lexer": "ipython3",
   "version": "3.9.7"
  }
 },
 "nbformat": 4,
 "nbformat_minor": 5
}
